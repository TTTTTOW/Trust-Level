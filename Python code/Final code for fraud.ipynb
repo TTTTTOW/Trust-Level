{
 "cells": [
  {
   "cell_type": "code",
   "execution_count": 2,
   "metadata": {
    "tags": []
   },
   "outputs": [],
   "source": [
    "import torch\n",
    "from torch import nn\n",
    "from torch.utils.data import DataLoader, Dataset, TensorDataset, IterableDataset\n",
    "import torchvision\n",
    "from torchvision import datasets, models, transforms\n",
    "import transformers\n",
    "import sklearn\n",
    "import numpy as np\n",
    "import pandas as pd\n",
    "pd.set_option('display.max_columns', None)\n",
    "pd.set_option('display.max_rows', None)\n",
    "import matplotlib.pyplot as plt\n",
    "import matplotlib\n",
    "plt.rcParams['font.family'] = ['SimHei', 'Times New Roman']\n",
    "plt.rcParams['axes.unicode_minus'] = False\n",
    "import seaborn as sns\n",
    "import warnings\n",
    "warnings.filterwarnings('ignore')\n",
    "import json, copy, re, random, time, datetime\n",
    "from tqdm.notebook import tqdm\n",
    "%matplotlib inline"
   ]
  },
  {
   "cell_type": "markdown",
   "metadata": {},
   "source": [
    "# EDA"
   ]
  },
  {
   "cell_type": "code",
   "execution_count": 3,
   "metadata": {
    "jupyter": {
     "outputs_hidden": false
    },
    "pycharm": {
     "name": "#%%\n"
    }
   },
   "outputs": [
    {
     "data": {
      "text/html": [
       "<div>\n",
       "<style scoped>\n",
       "    .dataframe tbody tr th:only-of-type {\n",
       "        vertical-align: middle;\n",
       "    }\n",
       "\n",
       "    .dataframe tbody tr th {\n",
       "        vertical-align: top;\n",
       "    }\n",
       "\n",
       "    .dataframe thead th {\n",
       "        text-align: right;\n",
       "    }\n",
       "</style>\n",
       "<table border=\"1\" class=\"dataframe\">\n",
       "  <thead>\n",
       "    <tr style=\"text-align: right;\">\n",
       "      <th></th>\n",
       "      <th>trustLevel</th>\n",
       "      <th>totalScanTimeInSeconds</th>\n",
       "      <th>grandTotal</th>\n",
       "      <th>lineItemVoids</th>\n",
       "      <th>scansWithoutRegistration</th>\n",
       "      <th>quantityModifications</th>\n",
       "      <th>scannedLineItemsPerSecond</th>\n",
       "      <th>valuePerSecond</th>\n",
       "      <th>lineItemVoidsPerPosition</th>\n",
       "      <th>fraud</th>\n",
       "    </tr>\n",
       "  </thead>\n",
       "  <tbody>\n",
       "    <tr>\n",
       "      <th>0</th>\n",
       "      <td>4</td>\n",
       "      <td>1728.0</td>\n",
       "      <td>39.45</td>\n",
       "      <td>2.0</td>\n",
       "      <td>9.0</td>\n",
       "      <td>497</td>\n",
       "      <td>0.015625</td>\n",
       "      <td>0.022830</td>\n",
       "      <td>0.074074</td>\n",
       "      <td>0</td>\n",
       "    </tr>\n",
       "    <tr>\n",
       "      <th>1</th>\n",
       "      <td>2</td>\n",
       "      <td>340.0</td>\n",
       "      <td>25.97</td>\n",
       "      <td>4.0</td>\n",
       "      <td>3.0</td>\n",
       "      <td>878</td>\n",
       "      <td>0.073529</td>\n",
       "      <td>0.076382</td>\n",
       "      <td>0.160000</td>\n",
       "      <td>0</td>\n",
       "    </tr>\n",
       "    <tr>\n",
       "      <th>2</th>\n",
       "      <td>5</td>\n",
       "      <td>216.0</td>\n",
       "      <td>57.92</td>\n",
       "      <td>9.0</td>\n",
       "      <td>5.0</td>\n",
       "      <td>343</td>\n",
       "      <td>0.046296</td>\n",
       "      <td>0.268148</td>\n",
       "      <td>0.900000</td>\n",
       "      <td>0</td>\n",
       "    </tr>\n",
       "    <tr>\n",
       "      <th>3</th>\n",
       "      <td>2</td>\n",
       "      <td>768.0</td>\n",
       "      <td>85.96</td>\n",
       "      <td>11.0</td>\n",
       "      <td>6.0</td>\n",
       "      <td>343</td>\n",
       "      <td>0.002604</td>\n",
       "      <td>0.111927</td>\n",
       "      <td>5.500000</td>\n",
       "      <td>0</td>\n",
       "    </tr>\n",
       "    <tr>\n",
       "      <th>4</th>\n",
       "      <td>4</td>\n",
       "      <td>694.0</td>\n",
       "      <td>92.44</td>\n",
       "      <td>7.0</td>\n",
       "      <td>5.0</td>\n",
       "      <td>1</td>\n",
       "      <td>0.005764</td>\n",
       "      <td>0.133199</td>\n",
       "      <td>1.750000</td>\n",
       "      <td>0</td>\n",
       "    </tr>\n",
       "  </tbody>\n",
       "</table>\n",
       "</div>"
      ],
      "text/plain": [
       "   trustLevel  totalScanTimeInSeconds  grandTotal  lineItemVoids  \\\n",
       "0           4                  1728.0       39.45            2.0   \n",
       "1           2                   340.0       25.97            4.0   \n",
       "2           5                   216.0       57.92            9.0   \n",
       "3           2                   768.0       85.96           11.0   \n",
       "4           4                   694.0       92.44            7.0   \n",
       "\n",
       "   scansWithoutRegistration  quantityModifications  scannedLineItemsPerSecond  \\\n",
       "0                       9.0                    497                   0.015625   \n",
       "1                       3.0                    878                   0.073529   \n",
       "2                       5.0                    343                   0.046296   \n",
       "3                       6.0                    343                   0.002604   \n",
       "4                       5.0                      1                   0.005764   \n",
       "\n",
       "   valuePerSecond  lineItemVoidsPerPosition  fraud  \n",
       "0        0.022830                  0.074074      0  \n",
       "1        0.076382                  0.160000      0  \n",
       "2        0.268148                  0.900000      0  \n",
       "3        0.111927                  5.500000      0  \n",
       "4        0.133199                  1.750000      0  "
      ]
     },
     "execution_count": 3,
     "metadata": {},
     "output_type": "execute_result"
    }
   ],
   "source": [
    "train_data = pd.read_csv('Final Project/data/mgis489_train.csv')\n",
    "test_data_temp = pd.read_csv('Final Project/data/mgis489_test.csv')\n",
    "test_data = test_data_temp.iloc[:, 1:]\n",
    "transactionID = test_data_temp.iloc[:, 0]\n",
    "train_data.head()"
   ]
  },
  {
   "cell_type": "code",
   "execution_count": 4,
   "metadata": {},
   "outputs": [],
   "source": [
    "train_data.dropna(inplace=True)"
   ]
  },
  {
   "cell_type": "code",
   "execution_count": 5,
   "metadata": {
    "jupyter": {
     "outputs_hidden": false
    },
    "pycharm": {
     "name": "#%%\n"
    }
   },
   "outputs": [
    {
     "data": {
      "text/plain": [
       "((316047, 10), (135836, 9))"
      ]
     },
     "execution_count": 5,
     "metadata": {},
     "output_type": "execute_result"
    }
   ],
   "source": [
    "train_data.shape, test_data.shape"
   ]
  },
  {
   "cell_type": "code",
   "execution_count": 6,
   "metadata": {},
   "outputs": [
    {
     "data": {
      "text/plain": [
       "Text(0, 0.5, 'Count')"
      ]
     },
     "execution_count": 6,
     "metadata": {},
     "output_type": "execute_result"
    },
    {
     "data": {
      "image/png": "[encoded data removed]",
      "text/plain": [
       "<Figure size 720x576 with 1 Axes>"
      ]
     },
     "metadata": {
      "needs_background": "light"
     },
     "output_type": "display_data"
    }
   ],
   "source": [
    "import matplotlib.pyplot as plt\n",
    "import seaborn as sns\n",
    "plt.figure(figsize=(10, 8))\n",
    "sns.histplot(data=train_data, x='trustLevel', hue='fraud', multiple=\"stack\",linewidth=.5,bins=6, binwidth=.9)\n",
    "plt.xlabel('trustLevel', fontsize=20)\n",
    "plt.ylabel(\"Count\", fontsize=15)"
   ]
  },
  {
   "cell_type": "code",
   "execution_count": 7,
   "metadata": {},
   "outputs": [
    {
     "data": {
      "text/plain": [
       "Text(0, 0.5, 'totalScanTimeInSeconds')"
      ]
     },
     "execution_count": 7,
     "metadata": {},
     "output_type": "execute_result"
    },
    {
     "data": {
      "image/png": "[encoded data removed]",
      "text/plain": [
       "<Figure size 720x576 with 1 Axes>"
      ]
     },
     "metadata": {
      "needs_background": "light"
     },
     "output_type": "display_data"
    }
   ],
   "source": [
    "import matplotlib.pyplot as plt\n",
    "import seaborn as sns\n",
    "plt.figure(figsize=(10, 8))\n",
    "sns.violinplot(data=train_data, x='fraud',y=\"totalScanTimeInSeconds\",linewidth=.5,bins=6, binwidth=.9)\n",
    "plt.xlabel('fraud', fontsize=20)\n",
    "plt.ylabel(\"totalScanTimeInSeconds\", fontsize=20)"
   ]
  },
  {
   "cell_type": "code",
   "execution_count": 8,
   "metadata": {},
   "outputs": [
    {
     "data": {
      "text/plain": [
       "Text(0.410555555555554, 0.5, 'Density')"
      ]
     },
     "execution_count": 8,
     "metadata": {},
     "output_type": "execute_result"
    },
    {
     "data": {
      "image/png": "[encoded data removed]",
      "text/plain": [
       "<Figure size 401x360 with 1 Axes>"
      ]
     },
     "metadata": {
      "needs_background": "light"
     },
     "output_type": "display_data"
    }
   ],
   "source": [
    "sns.displot(data=train_data, x='grandTotal',hue='fraud',kind='kde',linewidth=.9)\n",
    "plt.xlabel('grandTotal', fontsize=20)\n",
    "plt.ylabel(\"Density\", fontsize=20)"
   ]
  },
  {
   "cell_type": "markdown",
   "metadata": {
    "pycharm": {
     "name": "#%% md\n"
    }
   },
   "source": [
    "* trustLevel  客户的个人信任级别。 6：最高可信度  {1,2,3,4,5,6}\n",
    "* totalScanTimeInSeconds  第一个和最后一个扫描产品之间的总时间（以秒为单位）   正整数\n",
    "* grandTotal 扫描的产品总数  最多两位小数的正十进制数\n",
    "* lineItemVoids 无效扫描次数  正整数\n",
    "* scansWithoutRegistration 尝试激活扫描仪而不实际扫描任何内容的次数  0或者正整数\n",
    "* quantityModification  已扫描产品之一的修改数量 0或者正整数\n",
    "* scannedLineItemsPerSecond 平均每秒扫描产品数  正浮点数\n",
    "* valuePerSecond 每秒扫描产品的平均总值  正浮点数\n",
    "* lineItemVoidsPerPosition 所有已扫描且未取消的产品总数中的平均项目无效数  正浮点数\n",
    "* fraud 分类为欺诈 (1) 或非欺诈 (0) {0,1}"
   ]
  },
  {
   "cell_type": "code",
   "execution_count": 9,
   "metadata": {
    "jupyter": {
     "outputs_hidden": false
    },
    "pycharm": {
     "name": "#%%\n"
    }
   },
   "outputs": [
    {
     "data": {
      "text/plain": [
       "0    199507\n",
       "1    116540\n",
       "Name: fraud, dtype: int64"
      ]
     },
     "execution_count": 9,
     "metadata": {},
     "output_type": "execute_result"
    }
   ],
   "source": [
    "train_data.fraud.value_counts()"
   ]
  },
  {
   "cell_type": "code",
   "execution_count": 10,
   "metadata": {},
   "outputs": [
    {
     "data": {
      "text/plain": [
       "Text(0, 0.5, 'fraud')"
      ]
     },
     "execution_count": 10,
     "metadata": {},
     "output_type": "execute_result"
    },
    {
     "data": {
      "image/png": "[encoded data removed]",
      "text/plain": [
       "<Figure size 2000x1200 with 1 Axes>"
      ]
     },
     "metadata": {
      "needs_background": "light"
     },
     "output_type": "display_data"
    }
   ],
   "source": [
    "plt.figure(figsize=(10, 6), dpi=200)\n",
    "plt.barh(y=[0,1], width=[199486, 116538])\n",
    "plt.yticks([0, 1])\n",
    "plt.xlabel('N_samples')\n",
    "plt.ylabel('fraud')"
   ]
  },
  {
   "cell_type": "markdown",
   "metadata": {},
   "source": [
    "# Polynomial Features"
   ]
  },
  {
   "cell_type": "code",
   "execution_count": 11,
   "metadata": {
    "scrolled": true
   },
   "outputs": [
    {
     "data": {
      "text/plain": [
       "(316047, 10)"
      ]
     },
     "execution_count": 11,
     "metadata": {},
     "output_type": "execute_result"
    }
   ],
   "source": [
    "train_data.shape"
   ]
  },
  {
   "cell_type": "code",
   "execution_count": 12,
   "metadata": {},
   "outputs": [],
   "source": [
    "# Interaction\n",
    "from sklearn.preprocessing import PolynomialFeatures\n",
    "pf = PolynomialFeatures(include_bias=False, interaction_only=True).fit(train_data.iloc[:, :-1])"
   ]
  },
  {
   "cell_type": "code",
   "execution_count": 13,
   "metadata": {},
   "outputs": [
    {
     "data": {
      "text/plain": [
       "(316047, 45)"
      ]
     },
     "execution_count": 13,
     "metadata": {},
     "output_type": "execute_result"
    }
   ],
   "source": [
    "pd.DataFrame(pf.transform(train_data.iloc[:, :-1])).shape"
   ]
  },
  {
   "cell_type": "code",
   "execution_count": 14,
   "metadata": {},
   "outputs": [
    {
     "data": {
      "text/plain": [
       "(316047,)"
      ]
     },
     "execution_count": 14,
     "metadata": {},
     "output_type": "execute_result"
    }
   ],
   "source": [
    "train_data.iloc[:, -1].shape"
   ]
  },
  {
   "cell_type": "code",
   "execution_count": 15,
   "metadata": {},
   "outputs": [],
   "source": [
    "data_poly = pd.DataFrame(pf.transform(train_data.iloc[:, :-1]), columns = pf.get_feature_names_out())\n",
    "data_poly['fraud'] = train_data.iloc[:, -1].values"
   ]
  },
  {
   "cell_type": "code",
   "execution_count": 16,
   "metadata": {},
   "outputs": [],
   "source": [
    "poly2 = pd.read_csv('data_poly.csv')"
   ]
  },
  {
   "cell_type": "code",
   "execution_count": 17,
   "metadata": {},
   "outputs": [
    {
     "data": {
      "text/plain": [
       "(316047, 46)"
      ]
     },
     "execution_count": 17,
     "metadata": {},
     "output_type": "execute_result"
    }
   ],
   "source": [
    "data_poly.shape"
   ]
  },
  {
   "cell_type": "code",
   "execution_count": 18,
   "metadata": {},
   "outputs": [
    {
     "data": {
      "text/plain": [
       "(316024, 46)"
      ]
     },
     "execution_count": 18,
     "metadata": {},
     "output_type": "execute_result"
    }
   ],
   "source": [
    "poly2.shape"
   ]
  },
  {
   "cell_type": "markdown",
   "metadata": {},
   "source": [
    "# Models\n",
    "* Random forest\n",
    "* multiple perceptron\n",
    "* XGBoost"
   ]
  },
  {
   "cell_type": "code",
   "execution_count": 189,
   "metadata": {},
   "outputs": [
    {
     "data": {
      "text/plain": [
       "(316024, 46)"
      ]
     },
     "execution_count": 189,
     "metadata": {},
     "output_type": "execute_result"
    }
   ],
   "source": [
    "data_poly.shape"
   ]
  },
  {
   "cell_type": "code",
   "execution_count": 24,
   "metadata": {},
   "outputs": [],
   "source": [
    "from xgboost import XGBClassifier\n",
    "from sklearn.ensemble import RandomForestClassifier\n",
    "from sklearn.neural_network import MLPClassifier\n",
    "from sklearn.metrics import accuracy_score, confusion_matrix\n",
    "from sklearn.model_selection import KFold, cross_val_predict, cross_validate"
   ]
  },
  {
   "cell_type": "code",
   "execution_count": 25,
   "metadata": {},
   "outputs": [
    {
     "name": "stderr",
     "output_type": "stream",
     "text": [
      "[Parallel(n_jobs=1)]: Using backend SequentialBackend with 1 concurrent workers.\n"
     ]
    },
    {
     "name": "stdout",
     "output_type": "stream",
     "text": [
      "0.9964688796286628\n"
     ]
    },
    {
     "name": "stderr",
     "output_type": "stream",
     "text": [
      "[Parallel(n_jobs=1)]: Done   5 out of   5 | elapsed:  1.1min finished\n"
     ]
    },
    {
     "data": {
      "text/plain": [
       "array([[198763,    372],\n",
       "       [   744, 116168]], dtype=int64)"
      ]
     },
     "execution_count": 25,
     "metadata": {},
     "output_type": "execute_result"
    }
   ],
   "source": [
    "rfc_prediction = cross_val_predict(RandomForestClassifier(n_jobs=-1), data_poly.iloc[:, :-1], data_poly.iloc[:, -1], cv=5, verbose=True)\n",
    "print(accuracy_score(rfc_prediction, data_poly.iloc[:, -1]))\n",
    "rfc_cm = confusion_matrix(rfc_prediction, data_poly.iloc[:, -1])\n",
    "rfc_cm"
   ]
  },
  {
   "cell_type": "code",
   "execution_count": 26,
   "metadata": {},
   "outputs": [
    {
     "name": "stderr",
     "output_type": "stream",
     "text": [
      "[Parallel(n_jobs=-1)]: Using backend LokyBackend with 16 concurrent workers.\n",
      "[Parallel(n_jobs=-1)]: Done   5 out of   5 | elapsed:  1.4min finished\n"
     ]
    },
    {
     "name": "stdout",
     "output_type": "stream",
     "text": [
      "0.9719313899514945\n"
     ]
    },
    {
     "data": {
      "text/plain": [
       "array([[191893,   1257],\n",
       "       [  7614, 115283]], dtype=int64)"
      ]
     },
     "execution_count": 26,
     "metadata": {},
     "output_type": "execute_result"
    }
   ],
   "source": [
    "mlp_prediction = cross_val_predict(MLPClassifier(), data_poly.iloc[:, :-1], data_poly.iloc[:, -1], cv=5,n_jobs=-1, verbose=True)\n",
    "print(accuracy_score(mlp_prediction, data_poly.iloc[:, -1]))\n",
    "mlp_cm = confusion_matrix(mlp_prediction, data_poly.iloc[:, -1])\n",
    "mlp_cm"
   ]
  },
  {
   "cell_type": "code",
   "execution_count": 27,
   "metadata": {
    "jupyter": {
     "outputs_hidden": false
    },
    "pycharm": {
     "name": "#%%\n"
    }
   },
   "outputs": [
    {
     "name": "stderr",
     "output_type": "stream",
     "text": [
      "[Parallel(n_jobs=1)]: Using backend SequentialBackend with 1 concurrent workers.\n"
     ]
    },
    {
     "name": "stdout",
     "output_type": "stream",
     "text": [
      "0.978632924849785\n"
     ]
    },
    {
     "name": "stderr",
     "output_type": "stream",
     "text": [
      "[Parallel(n_jobs=1)]: Done   5 out of   5 | elapsed:  1.4min finished\n"
     ]
    },
    {
     "data": {
      "text/plain": [
       "array([[199269,   6515],\n",
       "       [   238, 110025]], dtype=int64)"
      ]
     },
     "execution_count": 27,
     "metadata": {},
     "output_type": "execute_result"
    }
   ],
   "source": [
    "xgb_prediction = cross_val_predict(XGBClassifier(n_jobs=-1), data_poly.iloc[:, :-1], data_poly.iloc[:, -1], cv=5, verbose=True)\n",
    "print(accuracy_score(xgb_prediction, data_poly.iloc[:, -1]))\n",
    "xgb_cm = confusion_matrix(xgb_prediction, data_poly.iloc[:, -1])\n",
    "xgb_cm"
   ]
  },
  {
   "cell_type": "markdown",
   "metadata": {},
   "source": [
    "### XGBoost parameter optimization"
   ]
  },
  {
   "cell_type": "code",
   "execution_count": 15,
   "metadata": {
    "jupyter": {
     "outputs_hidden": false
    },
    "pycharm": {
     "name": "#%%\n"
    }
   },
   "outputs": [],
   "source": [
    "from xgboost import XGBClassifier\n",
    "import numpy as np\n",
    "import hyperopt\n",
    "estimators=np.array([*range(50, 300)])\n",
    "lr = np.linspace(0.001, 0.2, 20)\n",
    "subsamples = np.linspace(0.1, 1, 20)\n",
    "gammas = np.arange(0, 10, 0.1)\n",
    "max_depths = np.arange(5, 25)\n",
    "max_leaveses = np.arange(2, 1000, 5)\n",
    "colsample_bytrees = np.linspace(0.1, 1, 20)\n",
    "colsample_bylevels = np.linspace(0.1, 1, 20)\n",
    "\n",
    "hyperopt_params = {\n",
    "    'n_estimators': hyperopt.hp.choice('n_estimators', estimators),\n",
    "    'learning_rate': hyperopt.hp.choice('learning_rate', lr),\n",
    "    'subsample': hyperopt.hp.choice('subsample', subsamples),\n",
    "    'gamma': hyperopt.hp.choice('gamma', gammas),\n",
    "    'max_depth': hyperopt.hp.choice('max_depth', max_depths),\n",
    "    'max_leaves': hyperopt.hp.choice('max_leaves', max_leaveses),\n",
    "    'colsample_bytree': hyperopt.hp.choice('colsample_bytree', colsample_bytrees),\n",
    "    'colsample_bylevel': hyperopt.hp.choice('colsample_bylevel', colsample_bylevels),\n",
    "}"
   ]
  },
  {
   "cell_type": "code",
   "execution_count": 19,
   "metadata": {
    "jupyter": {
     "outputs_hidden": false
    },
    "pycharm": {
     "name": "#%%\n"
    }
   },
   "outputs": [],
   "source": [
    "import hyperopt\n",
    "from sklearn.model_selection import KFold, cross_val_score\n",
    "def hyperopt_objective(params):  \n",
    "    n_estimators = params['n_estimators']\n",
    "    learning_rate = params['learning_rate']\n",
    "    subsample = params['subsample']\n",
    "    gamma = params['gamma']\n",
    "    max_leaves = params['max_leaves']\n",
    "    max_depth = params['max_depth']\n",
    "    colsample_bytree = params['colsample_bytree']\n",
    "    colsample_bylevel = params['colsample_bylevel']\n",
    "    xgbc = XGBClassifier(\n",
    "        scale_pos_weight=1.71, n_estimators=n_estimators, learning_rate=learning_rate, subsample=subsample, gamma=gamma,  max_depth=max_depth,max_leaves=max_leaves, colsample_bytree=colsample_bytree, colsample_bylevel=colsample_bylevel, random_state=1, silent=True\n",
    "    )\n",
    "    cv = KFold(n_splits=5, shuffle=True, random_state=1)\n",
    "    score = cross_val_score(xgbc, sample_data_poly.iloc[:, :-1], sample_data_poly.iloc[:, -1], cv=cv, n_jobs=-1, error_score='raise')\n",
    "    return -np.mean(score)"
   ]
  },
  {
   "cell_type": "code",
   "execution_count": 20,
   "metadata": {
    "jupyter": {
     "outputs_hidden": false
    },
    "pycharm": {
     "name": "#%%\n"
    }
   },
   "outputs": [],
   "source": [
    "from hyperopt.early_stop import no_progress_loss\n",
    "def hyperopt_optimize(n_trials=100):\n",
    "    trial = hyperopt.Trials()  # saving process\n",
    "    early_stop_fn = no_progress_loss(30) # 当目标函数连续30次没有变化时就提前停止\n",
    "    param_best = hyperopt.fmin(\n",
    "        hyperopt_objective,\n",
    "        space=hyperopt_params,\n",
    "        algo=hyperopt.tpe.suggest,\n",
    "        # algo = algo  # 设置自定义代理模型\n",
    "        max_evals=n_trials,\n",
    "        verbose=True,\n",
    "        trials=trial,\n",
    "        early_stop_fn=early_stop_fn,\n",
    "    )\n",
    "    print(f\"最优参数：{param_best}\")\n",
    "    return trial, param_best"
   ]
  },
  {
   "cell_type": "code",
   "execution_count": 21,
   "metadata": {
    "jupyter": {
     "outputs_hidden": false
    },
    "pycharm": {
     "name": "#%%\n"
    }
   },
   "outputs": [
    {
     "name": "stdout",
     "output_type": "stream",
     "text": [
      " 50%|██████████████████████▌                      | 100/200 [21:18<21:18, 12.78s/trial, best loss: -0.9948749999999998]\n",
      "最优参数：{'colsample_bylevel': 13, 'colsample_bytree': 17, 'gamma': 21, 'learning_rate': 11, 'max_depth': 17, 'max_leaves': 150, 'n_estimators': 195, 'subsample': 8}\n"
     ]
    },
    {
     "data": {
      "text/plain": [
       "(<hyperopt.base.Trials at 0x1f4e1087eb0>,\n",
       " {'colsample_bylevel': 13,\n",
       "  'colsample_bytree': 17,\n",
       "  'gamma': 21,\n",
       "  'learning_rate': 11,\n",
       "  'max_depth': 17,\n",
       "  'max_leaves': 150,\n",
       "  'n_estimators': 195,\n",
       "  'subsample': 8})"
      ]
     },
     "execution_count": 21,
     "metadata": {},
     "output_type": "execute_result"
    }
   ],
   "source": [
    "hyperopt_optimize(200)"
   ]
  },
  {
   "cell_type": "code",
   "execution_count": 23,
   "metadata": {
    "jupyter": {
     "outputs_hidden": false
    },
    "pycharm": {
     "name": "#%%\n"
    }
   },
   "outputs": [
    {
     "data": {
      "text/plain": [
       "{'colsample_bylevel': 0.7157894736842105,\n",
       " 'colsample_bytree': 0.9052631578947369,\n",
       " 'gamma': 2.1,\n",
       " 'learning_rate': 0.11621052631578947,\n",
       " 'max_depth': 22,\n",
       " 'max_leaves': 752,\n",
       " 'n_estimators': 245,\n",
       " 'subsample': 0.4789473684210527}"
      ]
     },
     "execution_count": 23,
     "metadata": {},
     "output_type": "execute_result"
    }
   ],
   "source": [
    "estimators=np.array([*range(50, 300)])\n",
    "lr = np.linspace(0.001, 0.2, 20)\n",
    "subsamples = np.linspace(0.1, 1, 20)\n",
    "gammas = np.arange(0, 10, 0.1)\n",
    "max_depths = np.arange(5, 25)\n",
    "max_leaveses = np.arange(2, 1000, 5)\n",
    "colsample_bytrees = np.linspace(0.1, 1, 20)\n",
    "colsample_bylevels = np.linspace(0.1, 1, 20)\n",
    "\n",
    "\n",
    "best_param = {'colsample_bylevel': colsample_bylevels[13], \n",
    "              'colsample_bytree': colsample_bytrees[17], \n",
    "              'gamma': gammas[21], \n",
    "              'learning_rate': lr[11], \n",
    "              'max_depth': max_depths[17], \n",
    "              'max_leaves': max_leaveses[150], \n",
    "              'n_estimators': estimators[195], \n",
    "              'subsample': subsamples[8]}\n",
    "best_param"
   ]
  },
  {
   "cell_type": "markdown",
   "metadata": {},
   "source": [
    "### XGBoost with best parameter"
   ]
  },
  {
   "cell_type": "code",
   "execution_count": 12,
   "metadata": {
    "jupyter": {
     "outputs_hidden": false
    },
    "pycharm": {
     "name": "#%%\n"
    }
   },
   "outputs": [
    {
     "data": {
      "text/plain": [
       "(40000, 46)"
      ]
     },
     "execution_count": 12,
     "metadata": {},
     "output_type": "execute_result"
    }
   ],
   "source": [
    "train_data = pd.read_csv('data_poly.csv')\n",
    "test_data = pd.read_csv('test.csv')\n",
    "# 采样一部分数据\n",
    "positives = train_data[train_data.fraud==1].sample(20000, random_state=1)\n",
    "negatives = train_data[train_data.fraud==0].sample(20000, random_state=1)\n",
    "sample_data = pd.concat([positives, negatives],ignore_index=True).values\n",
    "np.random.shuffle(sample_data)\n",
    "sample_data_poly = pd.DataFrame(sample_data, columns=positives.columns)\n",
    "sample_data_poly.shape"
   ]
  },
  {
   "cell_type": "code",
   "execution_count": 14,
   "metadata": {},
   "outputs": [
    {
     "data": {
      "text/html": [
       "<div>\n",
       "<style scoped>\n",
       "    .dataframe tbody tr th:only-of-type {\n",
       "        vertical-align: middle;\n",
       "    }\n",
       "\n",
       "    .dataframe tbody tr th {\n",
       "        vertical-align: top;\n",
       "    }\n",
       "\n",
       "    .dataframe thead th {\n",
       "        text-align: right;\n",
       "    }\n",
       "</style>\n",
       "<table border=\"1\" class=\"dataframe\">\n",
       "  <thead>\n",
       "    <tr style=\"text-align: right;\">\n",
       "      <th></th>\n",
       "      <th>trustLevel</th>\n",
       "      <th>totalScanTimeInSeconds</th>\n",
       "      <th>grandTotal</th>\n",
       "      <th>lineItemVoids</th>\n",
       "      <th>scansWithoutRegistration</th>\n",
       "      <th>quantityModifications</th>\n",
       "      <th>scannedLineItemsPerSecond</th>\n",
       "      <th>valuePerSecond</th>\n",
       "      <th>lineItemVoidsPerPosition</th>\n",
       "      <th>trustLevel totalScanTimeInSeconds</th>\n",
       "      <th>trustLevel grandTotal</th>\n",
       "      <th>trustLevel lineItemVoids</th>\n",
       "      <th>trustLevel scansWithoutRegistration</th>\n",
       "      <th>trustLevel quantityModifications</th>\n",
       "      <th>trustLevel scannedLineItemsPerSecond</th>\n",
       "      <th>trustLevel valuePerSecond</th>\n",
       "      <th>trustLevel lineItemVoidsPerPosition</th>\n",
       "      <th>totalScanTimeInSeconds grandTotal</th>\n",
       "      <th>totalScanTimeInSeconds lineItemVoids</th>\n",
       "      <th>totalScanTimeInSeconds scansWithoutRegistration</th>\n",
       "      <th>totalScanTimeInSeconds quantityModifications</th>\n",
       "      <th>totalScanTimeInSeconds scannedLineItemsPerSecond</th>\n",
       "      <th>totalScanTimeInSeconds valuePerSecond</th>\n",
       "      <th>totalScanTimeInSeconds lineItemVoidsPerPosition</th>\n",
       "      <th>grandTotal lineItemVoids</th>\n",
       "      <th>grandTotal scansWithoutRegistration</th>\n",
       "      <th>grandTotal quantityModifications</th>\n",
       "      <th>grandTotal scannedLineItemsPerSecond</th>\n",
       "      <th>grandTotal valuePerSecond</th>\n",
       "      <th>grandTotal lineItemVoidsPerPosition</th>\n",
       "      <th>lineItemVoids scansWithoutRegistration</th>\n",
       "      <th>lineItemVoids quantityModifications</th>\n",
       "      <th>lineItemVoids scannedLineItemsPerSecond</th>\n",
       "      <th>lineItemVoids valuePerSecond</th>\n",
       "      <th>lineItemVoids lineItemVoidsPerPosition</th>\n",
       "      <th>scansWithoutRegistration quantityModifications</th>\n",
       "      <th>scansWithoutRegistration scannedLineItemsPerSecond</th>\n",
       "      <th>scansWithoutRegistration valuePerSecond</th>\n",
       "      <th>scansWithoutRegistration lineItemVoidsPerPosition</th>\n",
       "      <th>quantityModifications scannedLineItemsPerSecond</th>\n",
       "      <th>quantityModifications valuePerSecond</th>\n",
       "      <th>quantityModifications lineItemVoidsPerPosition</th>\n",
       "      <th>scannedLineItemsPerSecond valuePerSecond</th>\n",
       "      <th>scannedLineItemsPerSecond lineItemVoidsPerPosition</th>\n",
       "      <th>valuePerSecond lineItemVoidsPerPosition</th>\n",
       "    </tr>\n",
       "  </thead>\n",
       "  <tbody>\n",
       "    <tr>\n",
       "      <th>0</th>\n",
       "      <td>2.0</td>\n",
       "      <td>1065.0</td>\n",
       "      <td>86.40</td>\n",
       "      <td>0.0</td>\n",
       "      <td>8.0</td>\n",
       "      <td>1.0</td>\n",
       "      <td>0.025352</td>\n",
       "      <td>0.081127</td>\n",
       "      <td>0.000000</td>\n",
       "      <td>2130.0</td>\n",
       "      <td>172.80</td>\n",
       "      <td>0.0</td>\n",
       "      <td>16.0</td>\n",
       "      <td>2.0</td>\n",
       "      <td>0.050704</td>\n",
       "      <td>0.162254</td>\n",
       "      <td>0.000000</td>\n",
       "      <td>92016.00</td>\n",
       "      <td>0.0</td>\n",
       "      <td>8520.0</td>\n",
       "      <td>1065.0</td>\n",
       "      <td>27.0</td>\n",
       "      <td>86.40</td>\n",
       "      <td>0.000000</td>\n",
       "      <td>0.00</td>\n",
       "      <td>691.20</td>\n",
       "      <td>86.40</td>\n",
       "      <td>2.190423</td>\n",
       "      <td>7.009352</td>\n",
       "      <td>0.000000</td>\n",
       "      <td>0.0</td>\n",
       "      <td>0.0</td>\n",
       "      <td>0.000000</td>\n",
       "      <td>0.000000</td>\n",
       "      <td>0.000000</td>\n",
       "      <td>8.0</td>\n",
       "      <td>0.202817</td>\n",
       "      <td>0.649014</td>\n",
       "      <td>0.00</td>\n",
       "      <td>0.025352</td>\n",
       "      <td>0.081127</td>\n",
       "      <td>0.000000</td>\n",
       "      <td>0.002057</td>\n",
       "      <td>0.000000</td>\n",
       "      <td>0.000000</td>\n",
       "    </tr>\n",
       "    <tr>\n",
       "      <th>1</th>\n",
       "      <td>2.0</td>\n",
       "      <td>1634.0</td>\n",
       "      <td>31.61</td>\n",
       "      <td>2.0</td>\n",
       "      <td>0.0</td>\n",
       "      <td>2.0</td>\n",
       "      <td>0.001836</td>\n",
       "      <td>0.019345</td>\n",
       "      <td>0.666667</td>\n",
       "      <td>3268.0</td>\n",
       "      <td>63.22</td>\n",
       "      <td>4.0</td>\n",
       "      <td>0.0</td>\n",
       "      <td>4.0</td>\n",
       "      <td>0.003672</td>\n",
       "      <td>0.038690</td>\n",
       "      <td>1.333333</td>\n",
       "      <td>51650.74</td>\n",
       "      <td>3268.0</td>\n",
       "      <td>0.0</td>\n",
       "      <td>3268.0</td>\n",
       "      <td>3.0</td>\n",
       "      <td>31.61</td>\n",
       "      <td>1089.333333</td>\n",
       "      <td>63.22</td>\n",
       "      <td>0.00</td>\n",
       "      <td>63.22</td>\n",
       "      <td>0.058035</td>\n",
       "      <td>0.611501</td>\n",
       "      <td>21.073333</td>\n",
       "      <td>0.0</td>\n",
       "      <td>4.0</td>\n",
       "      <td>0.003672</td>\n",
       "      <td>0.038690</td>\n",
       "      <td>1.333333</td>\n",
       "      <td>0.0</td>\n",
       "      <td>0.000000</td>\n",
       "      <td>0.000000</td>\n",
       "      <td>0.00</td>\n",
       "      <td>0.003672</td>\n",
       "      <td>0.038690</td>\n",
       "      <td>1.333333</td>\n",
       "      <td>0.000036</td>\n",
       "      <td>0.001224</td>\n",
       "      <td>0.012897</td>\n",
       "    </tr>\n",
       "    <tr>\n",
       "      <th>2</th>\n",
       "      <td>6.0</td>\n",
       "      <td>500.0</td>\n",
       "      <td>57.50</td>\n",
       "      <td>7.0</td>\n",
       "      <td>3.0</td>\n",
       "      <td>5.0</td>\n",
       "      <td>0.060000</td>\n",
       "      <td>0.115000</td>\n",
       "      <td>0.233333</td>\n",
       "      <td>3000.0</td>\n",
       "      <td>345.00</td>\n",
       "      <td>42.0</td>\n",
       "      <td>18.0</td>\n",
       "      <td>30.0</td>\n",
       "      <td>0.360000</td>\n",
       "      <td>0.690000</td>\n",
       "      <td>1.400000</td>\n",
       "      <td>28750.00</td>\n",
       "      <td>3500.0</td>\n",
       "      <td>1500.0</td>\n",
       "      <td>2500.0</td>\n",
       "      <td>30.0</td>\n",
       "      <td>57.50</td>\n",
       "      <td>116.666667</td>\n",
       "      <td>402.50</td>\n",
       "      <td>172.50</td>\n",
       "      <td>287.50</td>\n",
       "      <td>3.450000</td>\n",
       "      <td>6.612500</td>\n",
       "      <td>13.416667</td>\n",
       "      <td>21.0</td>\n",
       "      <td>35.0</td>\n",
       "      <td>0.420000</td>\n",
       "      <td>0.805000</td>\n",
       "      <td>1.633333</td>\n",
       "      <td>15.0</td>\n",
       "      <td>0.180000</td>\n",
       "      <td>0.345000</td>\n",
       "      <td>0.70</td>\n",
       "      <td>0.300000</td>\n",
       "      <td>0.575000</td>\n",
       "      <td>1.166667</td>\n",
       "      <td>0.006900</td>\n",
       "      <td>0.014000</td>\n",
       "      <td>0.026833</td>\n",
       "    </tr>\n",
       "    <tr>\n",
       "      <th>3</th>\n",
       "      <td>3.0</td>\n",
       "      <td>711.0</td>\n",
       "      <td>50.46</td>\n",
       "      <td>10.0</td>\n",
       "      <td>3.0</td>\n",
       "      <td>1.0</td>\n",
       "      <td>0.033755</td>\n",
       "      <td>0.070970</td>\n",
       "      <td>0.416667</td>\n",
       "      <td>2133.0</td>\n",
       "      <td>151.38</td>\n",
       "      <td>30.0</td>\n",
       "      <td>9.0</td>\n",
       "      <td>3.0</td>\n",
       "      <td>0.101266</td>\n",
       "      <td>0.212911</td>\n",
       "      <td>1.250000</td>\n",
       "      <td>35877.06</td>\n",
       "      <td>7110.0</td>\n",
       "      <td>2133.0</td>\n",
       "      <td>711.0</td>\n",
       "      <td>24.0</td>\n",
       "      <td>50.46</td>\n",
       "      <td>296.250000</td>\n",
       "      <td>504.60</td>\n",
       "      <td>151.38</td>\n",
       "      <td>50.46</td>\n",
       "      <td>1.703291</td>\n",
       "      <td>3.581170</td>\n",
       "      <td>21.025000</td>\n",
       "      <td>30.0</td>\n",
       "      <td>10.0</td>\n",
       "      <td>0.337553</td>\n",
       "      <td>0.709705</td>\n",
       "      <td>4.166667</td>\n",
       "      <td>3.0</td>\n",
       "      <td>0.101266</td>\n",
       "      <td>0.212911</td>\n",
       "      <td>1.25</td>\n",
       "      <td>0.033755</td>\n",
       "      <td>0.070970</td>\n",
       "      <td>0.416667</td>\n",
       "      <td>0.002396</td>\n",
       "      <td>0.014065</td>\n",
       "      <td>0.029571</td>\n",
       "    </tr>\n",
       "    <tr>\n",
       "      <th>4</th>\n",
       "      <td>5.0</td>\n",
       "      <td>1213.0</td>\n",
       "      <td>30.50</td>\n",
       "      <td>8.0</td>\n",
       "      <td>9.0</td>\n",
       "      <td>1.0</td>\n",
       "      <td>0.012366</td>\n",
       "      <td>0.025144</td>\n",
       "      <td>0.533333</td>\n",
       "      <td>6065.0</td>\n",
       "      <td>152.50</td>\n",
       "      <td>40.0</td>\n",
       "      <td>45.0</td>\n",
       "      <td>5.0</td>\n",
       "      <td>0.061830</td>\n",
       "      <td>0.125721</td>\n",
       "      <td>2.666667</td>\n",
       "      <td>36996.50</td>\n",
       "      <td>9704.0</td>\n",
       "      <td>10917.0</td>\n",
       "      <td>1213.0</td>\n",
       "      <td>15.0</td>\n",
       "      <td>30.50</td>\n",
       "      <td>646.933333</td>\n",
       "      <td>244.00</td>\n",
       "      <td>274.50</td>\n",
       "      <td>30.50</td>\n",
       "      <td>0.377164</td>\n",
       "      <td>0.766900</td>\n",
       "      <td>16.266667</td>\n",
       "      <td>72.0</td>\n",
       "      <td>8.0</td>\n",
       "      <td>0.098928</td>\n",
       "      <td>0.201154</td>\n",
       "      <td>4.266667</td>\n",
       "      <td>9.0</td>\n",
       "      <td>0.111294</td>\n",
       "      <td>0.226298</td>\n",
       "      <td>4.80</td>\n",
       "      <td>0.012366</td>\n",
       "      <td>0.025144</td>\n",
       "      <td>0.533333</td>\n",
       "      <td>0.000311</td>\n",
       "      <td>0.006595</td>\n",
       "      <td>0.013410</td>\n",
       "    </tr>\n",
       "  </tbody>\n",
       "</table>\n",
       "</div>"
      ],
      "text/plain": [
       "   trustLevel  totalScanTimeInSeconds  grandTotal  lineItemVoids  \\\n",
       "0         2.0                  1065.0       86.40            0.0   \n",
       "1         2.0                  1634.0       31.61            2.0   \n",
       "2         6.0                   500.0       57.50            7.0   \n",
       "3         3.0                   711.0       50.46           10.0   \n",
       "4         5.0                  1213.0       30.50            8.0   \n",
       "\n",
       "   scansWithoutRegistration  quantityModifications  scannedLineItemsPerSecond  \\\n",
       "0                       8.0                    1.0                   0.025352   \n",
       "1                       0.0                    2.0                   0.001836   \n",
       "2                       3.0                    5.0                   0.060000   \n",
       "3                       3.0                    1.0                   0.033755   \n",
       "4                       9.0                    1.0                   0.012366   \n",
       "\n",
       "   valuePerSecond  lineItemVoidsPerPosition  \\\n",
       "0        0.081127                  0.000000   \n",
       "1        0.019345                  0.666667   \n",
       "2        0.115000                  0.233333   \n",
       "3        0.070970                  0.416667   \n",
       "4        0.025144                  0.533333   \n",
       "\n",
       "   trustLevel totalScanTimeInSeconds  trustLevel grandTotal  \\\n",
       "0                             2130.0                 172.80   \n",
       "1                             3268.0                  63.22   \n",
       "2                             3000.0                 345.00   \n",
       "3                             2133.0                 151.38   \n",
       "4                             6065.0                 152.50   \n",
       "\n",
       "   trustLevel lineItemVoids  trustLevel scansWithoutRegistration  \\\n",
       "0                       0.0                                 16.0   \n",
       "1                       4.0                                  0.0   \n",
       "2                      42.0                                 18.0   \n",
       "3                      30.0                                  9.0   \n",
       "4                      40.0                                 45.0   \n",
       "\n",
       "   trustLevel quantityModifications  trustLevel scannedLineItemsPerSecond  \\\n",
       "0                               2.0                              0.050704   \n",
       "1                               4.0                              0.003672   \n",
       "2                              30.0                              0.360000   \n",
       "3                               3.0                              0.101266   \n",
       "4                               5.0                              0.061830   \n",
       "\n",
       "   trustLevel valuePerSecond  trustLevel lineItemVoidsPerPosition  \\\n",
       "0                   0.162254                             0.000000   \n",
       "1                   0.038690                             1.333333   \n",
       "2                   0.690000                             1.400000   \n",
       "3                   0.212911                             1.250000   \n",
       "4                   0.125721                             2.666667   \n",
       "\n",
       "   totalScanTimeInSeconds grandTotal  totalScanTimeInSeconds lineItemVoids  \\\n",
       "0                           92016.00                                   0.0   \n",
       "1                           51650.74                                3268.0   \n",
       "2                           28750.00                                3500.0   \n",
       "3                           35877.06                                7110.0   \n",
       "4                           36996.50                                9704.0   \n",
       "\n",
       "   totalScanTimeInSeconds scansWithoutRegistration  \\\n",
       "0                                           8520.0   \n",
       "1                                              0.0   \n",
       "2                                           1500.0   \n",
       "3                                           2133.0   \n",
       "4                                          10917.0   \n",
       "\n",
       "   totalScanTimeInSeconds quantityModifications  \\\n",
       "0                                        1065.0   \n",
       "1                                        3268.0   \n",
       "2                                        2500.0   \n",
       "3                                         711.0   \n",
       "4                                        1213.0   \n",
       "\n",
       "   totalScanTimeInSeconds scannedLineItemsPerSecond  \\\n",
       "0                                              27.0   \n",
       "1                                               3.0   \n",
       "2                                              30.0   \n",
       "3                                              24.0   \n",
       "4                                              15.0   \n",
       "\n",
       "   totalScanTimeInSeconds valuePerSecond  \\\n",
       "0                                  86.40   \n",
       "1                                  31.61   \n",
       "2                                  57.50   \n",
       "3                                  50.46   \n",
       "4                                  30.50   \n",
       "\n",
       "   totalScanTimeInSeconds lineItemVoidsPerPosition  grandTotal lineItemVoids  \\\n",
       "0                                         0.000000                      0.00   \n",
       "1                                      1089.333333                     63.22   \n",
       "2                                       116.666667                    402.50   \n",
       "3                                       296.250000                    504.60   \n",
       "4                                       646.933333                    244.00   \n",
       "\n",
       "   grandTotal scansWithoutRegistration  grandTotal quantityModifications  \\\n",
       "0                               691.20                             86.40   \n",
       "1                                 0.00                             63.22   \n",
       "2                               172.50                            287.50   \n",
       "3                               151.38                             50.46   \n",
       "4                               274.50                             30.50   \n",
       "\n",
       "   grandTotal scannedLineItemsPerSecond  grandTotal valuePerSecond  \\\n",
       "0                              2.190423                   7.009352   \n",
       "1                              0.058035                   0.611501   \n",
       "2                              3.450000                   6.612500   \n",
       "3                              1.703291                   3.581170   \n",
       "4                              0.377164                   0.766900   \n",
       "\n",
       "   grandTotal lineItemVoidsPerPosition  \\\n",
       "0                             0.000000   \n",
       "1                            21.073333   \n",
       "2                            13.416667   \n",
       "3                            21.025000   \n",
       "4                            16.266667   \n",
       "\n",
       "   lineItemVoids scansWithoutRegistration  \\\n",
       "0                                     0.0   \n",
       "1                                     0.0   \n",
       "2                                    21.0   \n",
       "3                                    30.0   \n",
       "4                                    72.0   \n",
       "\n",
       "   lineItemVoids quantityModifications  \\\n",
       "0                                  0.0   \n",
       "1                                  4.0   \n",
       "2                                 35.0   \n",
       "3                                 10.0   \n",
       "4                                  8.0   \n",
       "\n",
       "   lineItemVoids scannedLineItemsPerSecond  lineItemVoids valuePerSecond  \\\n",
       "0                                 0.000000                      0.000000   \n",
       "1                                 0.003672                      0.038690   \n",
       "2                                 0.420000                      0.805000   \n",
       "3                                 0.337553                      0.709705   \n",
       "4                                 0.098928                      0.201154   \n",
       "\n",
       "   lineItemVoids lineItemVoidsPerPosition  \\\n",
       "0                                0.000000   \n",
       "1                                1.333333   \n",
       "2                                1.633333   \n",
       "3                                4.166667   \n",
       "4                                4.266667   \n",
       "\n",
       "   scansWithoutRegistration quantityModifications  \\\n",
       "0                                             8.0   \n",
       "1                                             0.0   \n",
       "2                                            15.0   \n",
       "3                                             3.0   \n",
       "4                                             9.0   \n",
       "\n",
       "   scansWithoutRegistration scannedLineItemsPerSecond  \\\n",
       "0                                           0.202817    \n",
       "1                                           0.000000    \n",
       "2                                           0.180000    \n",
       "3                                           0.101266    \n",
       "4                                           0.111294    \n",
       "\n",
       "   scansWithoutRegistration valuePerSecond  \\\n",
       "0                                 0.649014   \n",
       "1                                 0.000000   \n",
       "2                                 0.345000   \n",
       "3                                 0.212911   \n",
       "4                                 0.226298   \n",
       "\n",
       "   scansWithoutRegistration lineItemVoidsPerPosition  \\\n",
       "0                                               0.00   \n",
       "1                                               0.00   \n",
       "2                                               0.70   \n",
       "3                                               1.25   \n",
       "4                                               4.80   \n",
       "\n",
       "   quantityModifications scannedLineItemsPerSecond  \\\n",
       "0                                         0.025352   \n",
       "1                                         0.003672   \n",
       "2                                         0.300000   \n",
       "3                                         0.033755   \n",
       "4                                         0.012366   \n",
       "\n",
       "   quantityModifications valuePerSecond  \\\n",
       "0                              0.081127   \n",
       "1                              0.038690   \n",
       "2                              0.575000   \n",
       "3                              0.070970   \n",
       "4                              0.025144   \n",
       "\n",
       "   quantityModifications lineItemVoidsPerPosition  \\\n",
       "0                                        0.000000   \n",
       "1                                        1.333333   \n",
       "2                                        1.166667   \n",
       "3                                        0.416667   \n",
       "4                                        0.533333   \n",
       "\n",
       "   scannedLineItemsPerSecond valuePerSecond  \\\n",
       "0                                  0.002057   \n",
       "1                                  0.000036   \n",
       "2                                  0.006900   \n",
       "3                                  0.002396   \n",
       "4                                  0.000311   \n",
       "\n",
       "   scannedLineItemsPerSecond lineItemVoidsPerPosition  \\\n",
       "0                                           0.000000    \n",
       "1                                           0.001224    \n",
       "2                                           0.014000    \n",
       "3                                           0.014065    \n",
       "4                                           0.006595    \n",
       "\n",
       "   valuePerSecond lineItemVoidsPerPosition  \n",
       "0                                 0.000000  \n",
       "1                                 0.012897  \n",
       "2                                 0.026833  \n",
       "3                                 0.029571  \n",
       "4                                 0.013410  "
      ]
     },
     "execution_count": 14,
     "metadata": {},
     "output_type": "execute_result"
    }
   ],
   "source": [
    "from sklearn.preprocessing import PolynomialFeatures\n",
    "polyer = PolynomialFeatures(interaction_only=True, include_bias=False).fit(test_data)\n",
    "test_data_poly = pd.DataFrame(polyer.transform(test_data), columns=polyer.get_feature_names_out().tolist())[sample_data_poly.columns[:-1].values]\n",
    "test_data_poly.head()"
   ]
  },
  {
   "cell_type": "code",
   "execution_count": 108,
   "metadata": {},
   "outputs": [
    {
     "data": {
      "text/plain": [
       "{'colsample_bylevel': 0.7157894736842105,\n",
       " 'colsample_bytree': 0.9052631578947369,\n",
       " 'gamma': 2.1,\n",
       " 'learning_rate': 0.11621052631578947,\n",
       " 'max_depth': 22,\n",
       " 'max_leaves': 752,\n",
       " 'n_estimators': 245,\n",
       " 'subsample': 0.4789473684210527}"
      ]
     },
     "execution_count": 108,
     "metadata": {},
     "output_type": "execute_result"
    }
   ],
   "source": [
    "estimators=np.array([*range(50, 300)])\n",
    "lr = np.linspace(0.001, 0.2, 20)\n",
    "subsamples = np.linspace(0.1, 1, 20)\n",
    "gammas = np.arange(0, 10, 0.1)\n",
    "max_depths = np.arange(5, 25)\n",
    "max_leaveses = np.arange(2, 1000, 5)\n",
    "colsample_bytrees = np.linspace(0.1, 1, 20)\n",
    "colsample_bylevels = np.linspace(0.1, 1, 20)\n",
    "\n",
    "\n",
    "best_param = {'colsample_bylevel': colsample_bylevels[13], \n",
    "              'colsample_bytree': colsample_bytrees[17], \n",
    "              'gamma': gammas[21], \n",
    "              'learning_rate': lr[11], \n",
    "              'max_depth': max_depths[17], \n",
    "              'max_leaves': max_leaveses[150], \n",
    "              'n_estimators': estimators[195], \n",
    "              'subsample': subsamples[8]}\n",
    "best_param"
   ]
  },
  {
   "cell_type": "code",
   "execution_count": 109,
   "metadata": {},
   "outputs": [
    {
     "name": "stderr",
     "output_type": "stream",
     "text": [
      "[Parallel(n_jobs=1)]: Using backend SequentialBackend with 1 concurrent workers.\n"
     ]
    },
    {
     "name": "stdout",
     "output_type": "stream",
     "text": [
      "0.978632924849785\n"
     ]
    },
    {
     "name": "stderr",
     "output_type": "stream",
     "text": [
      "[Parallel(n_jobs=1)]: Done   5 out of   5 | elapsed:  3.6min finished\n"
     ]
    },
    {
     "data": {
      "text/plain": [
       "array([[199269,   6515],\n",
       "       [   238, 110025]], dtype=int64)"
      ]
     },
     "execution_count": 109,
     "metadata": {},
     "output_type": "execute_result"
    }
   ],
   "source": [
    "best_xgb_prediction = cross_val_predict(XGBClassifier(n_jobs=-1, **best_param),data_poly.iloc[:, :-1], data_poly.iloc[:, -1], cv=5, verbose=True)\n",
    "print(accuracy_score(xgb_prediction, data_poly.iloc[:, -1]))\n",
    "best_xgb_cm = confusion_matrix(xgb_prediction, data_poly.iloc[:, -1])\n",
    "best_xgb_cm"
   ]
  },
  {
   "cell_type": "markdown",
   "metadata": {},
   "source": [
    "# Cost matrix"
   ]
  },
  {
   "cell_type": "code",
   "execution_count": 77,
   "metadata": {},
   "outputs": [],
   "source": [
    "cost = np.array([[0, -25], [-5, 5]])"
   ]
  },
  {
   "cell_type": "code",
   "execution_count": 79,
   "metadata": {},
   "outputs": [
    {
     "data": {
      "text/plain": [
       "array([[     0,  -9300],\n",
       "       [ -3720, 580840]], dtype=int64)"
      ]
     },
     "execution_count": 79,
     "metadata": {},
     "output_type": "execute_result"
    }
   ],
   "source": [
    "# 随机森林\n",
    "rfc_cost = (rfc_cm * cost)\n",
    "rfc_cost"
   ]
  },
  {
   "cell_type": "code",
   "execution_count": 80,
   "metadata": {},
   "outputs": [
    {
     "data": {
      "text/plain": [
       "567820"
      ]
     },
     "execution_count": 80,
     "metadata": {},
     "output_type": "execute_result"
    }
   ],
   "source": [
    "rfc_cost.reshape(-1).sum()"
   ]
  },
  {
   "cell_type": "code",
   "execution_count": 81,
   "metadata": {},
   "outputs": [
    {
     "data": {
      "text/plain": [
       "array([[     0, -31425],\n",
       "       [-38070, 576415]], dtype=int64)"
      ]
     },
     "execution_count": 81,
     "metadata": {},
     "output_type": "execute_result"
    }
   ],
   "source": [
    "# mlp\n",
    "mlp_cost = (mlp_cm * cost)\n",
    "mlp_cost"
   ]
  },
  {
   "cell_type": "code",
   "execution_count": 82,
   "metadata": {},
   "outputs": [
    {
     "data": {
      "text/plain": [
       "506920"
      ]
     },
     "execution_count": 82,
     "metadata": {},
     "output_type": "execute_result"
    }
   ],
   "source": [
    "mlp_cost.reshape(-1).sum()"
   ]
  },
  {
   "cell_type": "code",
   "execution_count": 83,
   "metadata": {},
   "outputs": [
    {
     "data": {
      "text/plain": [
       "array([[      0, -162875],\n",
       "       [  -1190,  550125]], dtype=int64)"
      ]
     },
     "execution_count": 83,
     "metadata": {},
     "output_type": "execute_result"
    }
   ],
   "source": [
    "# xgb\n",
    "xgb_cost = (xgb_cm * cost)\n",
    "xgb_cost"
   ]
  },
  {
   "cell_type": "code",
   "execution_count": 84,
   "metadata": {},
   "outputs": [
    {
     "data": {
      "text/plain": [
       "386060"
      ]
     },
     "execution_count": 84,
     "metadata": {},
     "output_type": "execute_result"
    }
   ],
   "source": [
    "xgb_cost.reshape(-1).sum()"
   ]
  },
  {
   "cell_type": "code",
   "execution_count": 110,
   "metadata": {},
   "outputs": [
    {
     "data": {
      "text/plain": [
       "array([[      0, -162875],\n",
       "       [  -1190,  550125]], dtype=int64)"
      ]
     },
     "execution_count": 110,
     "metadata": {},
     "output_type": "execute_result"
    }
   ],
   "source": [
    "# xgb_best\n",
    "best_xgb_cost = (best_xgb_cm * cost)\n",
    "best_xgb_cost"
   ]
  },
  {
   "cell_type": "code",
   "execution_count": 111,
   "metadata": {},
   "outputs": [
    {
     "data": {
      "text/plain": [
       "386060"
      ]
     },
     "execution_count": 111,
     "metadata": {},
     "output_type": "execute_result"
    }
   ],
   "source": [
    "best_xgb_cost.sum().sum()"
   ]
  },
  {
   "cell_type": "markdown",
   "metadata": {
    "jupyter": {
     "outputs_hidden": false
    },
    "pycharm": {
     "name": "#%%\n"
    }
   },
   "source": [
    "# Predict"
   ]
  },
  {
   "cell_type": "markdown",
   "metadata": {},
   "source": [
    "## Random forest 0.99676"
   ]
  },
  {
   "cell_type": "code",
   "execution_count": 60,
   "metadata": {},
   "outputs": [],
   "source": [
    "rfc = RandomForestClassifier().fit(data_poly.iloc[:, :-1], data_poly.iloc[:, -1])"
   ]
  },
  {
   "cell_type": "code",
   "execution_count": 61,
   "metadata": {
    "jupyter": {
     "outputs_hidden": false
    },
    "pycharm": {
     "name": "#%%\n"
    }
   },
   "outputs": [
    {
     "data": {
      "text/html": [
       "<div>\n",
       "<style scoped>\n",
       "    .dataframe tbody tr th:only-of-type {\n",
       "        vertical-align: middle;\n",
       "    }\n",
       "\n",
       "    .dataframe tbody tr th {\n",
       "        vertical-align: top;\n",
       "    }\n",
       "\n",
       "    .dataframe thead th {\n",
       "        text-align: right;\n",
       "    }\n",
       "</style>\n",
       "<table border=\"1\" class=\"dataframe\">\n",
       "  <thead>\n",
       "    <tr style=\"text-align: right;\">\n",
       "      <th></th>\n",
       "      <th>trustLevel</th>\n",
       "      <th>totalScanTimeInSeconds</th>\n",
       "      <th>grandTotal</th>\n",
       "      <th>lineItemVoids</th>\n",
       "      <th>scansWithoutRegistration</th>\n",
       "      <th>quantityModifications</th>\n",
       "      <th>scannedLineItemsPerSecond</th>\n",
       "      <th>valuePerSecond</th>\n",
       "      <th>lineItemVoidsPerPosition</th>\n",
       "    </tr>\n",
       "  </thead>\n",
       "  <tbody>\n",
       "    <tr>\n",
       "      <th>0</th>\n",
       "      <td>2</td>\n",
       "      <td>1065.0</td>\n",
       "      <td>86.40</td>\n",
       "      <td>0.0</td>\n",
       "      <td>8.0</td>\n",
       "      <td>1.0</td>\n",
       "      <td>0.025352</td>\n",
       "      <td>0.081127</td>\n",
       "      <td>0.000000</td>\n",
       "    </tr>\n",
       "    <tr>\n",
       "      <th>1</th>\n",
       "      <td>2</td>\n",
       "      <td>1634.0</td>\n",
       "      <td>31.61</td>\n",
       "      <td>2.0</td>\n",
       "      <td>0.0</td>\n",
       "      <td>2.0</td>\n",
       "      <td>0.001836</td>\n",
       "      <td>0.019345</td>\n",
       "      <td>0.666667</td>\n",
       "    </tr>\n",
       "    <tr>\n",
       "      <th>2</th>\n",
       "      <td>6</td>\n",
       "      <td>500.0</td>\n",
       "      <td>57.50</td>\n",
       "      <td>7.0</td>\n",
       "      <td>3.0</td>\n",
       "      <td>5.0</td>\n",
       "      <td>0.060000</td>\n",
       "      <td>0.115000</td>\n",
       "      <td>0.233333</td>\n",
       "    </tr>\n",
       "    <tr>\n",
       "      <th>3</th>\n",
       "      <td>3</td>\n",
       "      <td>711.0</td>\n",
       "      <td>50.46</td>\n",
       "      <td>10.0</td>\n",
       "      <td>3.0</td>\n",
       "      <td>1.0</td>\n",
       "      <td>0.033755</td>\n",
       "      <td>0.070970</td>\n",
       "      <td>0.416667</td>\n",
       "    </tr>\n",
       "    <tr>\n",
       "      <th>4</th>\n",
       "      <td>5</td>\n",
       "      <td>1213.0</td>\n",
       "      <td>30.50</td>\n",
       "      <td>8.0</td>\n",
       "      <td>9.0</td>\n",
       "      <td>1.0</td>\n",
       "      <td>0.012366</td>\n",
       "      <td>0.025144</td>\n",
       "      <td>0.533333</td>\n",
       "    </tr>\n",
       "  </tbody>\n",
       "</table>\n",
       "</div>"
      ],
      "text/plain": [
       "   trustLevel  totalScanTimeInSeconds  grandTotal  lineItemVoids  \\\n",
       "0           2                  1065.0       86.40            0.0   \n",
       "1           2                  1634.0       31.61            2.0   \n",
       "2           6                   500.0       57.50            7.0   \n",
       "3           3                   711.0       50.46           10.0   \n",
       "4           5                  1213.0       30.50            8.0   \n",
       "\n",
       "   scansWithoutRegistration  quantityModifications  scannedLineItemsPerSecond  \\\n",
       "0                       8.0                    1.0                   0.025352   \n",
       "1                       0.0                    2.0                   0.001836   \n",
       "2                       3.0                    5.0                   0.060000   \n",
       "3                       3.0                    1.0                   0.033755   \n",
       "4                       9.0                    1.0                   0.012366   \n",
       "\n",
       "   valuePerSecond  lineItemVoidsPerPosition  \n",
       "0        0.081127                  0.000000  \n",
       "1        0.019345                  0.666667  \n",
       "2        0.115000                  0.233333  \n",
       "3        0.070970                  0.416667  \n",
       "4        0.025144                  0.533333  "
      ]
     },
     "execution_count": 61,
     "metadata": {},
     "output_type": "execute_result"
    }
   ],
   "source": [
    "test_x = pd.read_csv('Final Project/data/mgis489_test.csv').iloc[:, 1:]\n",
    "test_x.head()"
   ]
  },
  {
   "cell_type": "code",
   "execution_count": 62,
   "metadata": {
    "jupyter": {
     "outputs_hidden": false
    },
    "pycharm": {
     "name": "#%%\n"
    }
   },
   "outputs": [
    {
     "data": {
      "text/plain": [
       "trustLevel                   0.000000\n",
       "totalScanTimeInSeconds       0.000000\n",
       "grandTotal                   0.000088\n",
       "lineItemVoids                0.000000\n",
       "scansWithoutRegistration     0.000000\n",
       "quantityModifications        0.000000\n",
       "scannedLineItemsPerSecond    0.003224\n",
       "valuePerSecond               0.009430\n",
       "lineItemVoidsPerPosition     0.000000\n",
       "dtype: float64"
      ]
     },
     "execution_count": 62,
     "metadata": {},
     "output_type": "execute_result"
    }
   ],
   "source": [
    "test_x.isna().mean()"
   ]
  },
  {
   "cell_type": "code",
   "execution_count": 63,
   "metadata": {
    "jupyter": {
     "outputs_hidden": false
    },
    "pycharm": {
     "name": "#%%\n"
    }
   },
   "outputs": [],
   "source": [
    "from sklearn.impute import KNNImputer\n",
    "test_x = KNNImputer().fit_transform(test_x)"
   ]
  },
  {
   "cell_type": "code",
   "execution_count": 64,
   "metadata": {
    "jupyter": {
     "outputs_hidden": false
    },
    "pycharm": {
     "name": "#%%\n"
    }
   },
   "outputs": [
    {
     "data": {
      "text/plain": [
       "(135836, 45)"
      ]
     },
     "execution_count": 64,
     "metadata": {},
     "output_type": "execute_result"
    }
   ],
   "source": [
    "from sklearn.preprocessing import PolynomialFeatures\n",
    "polyer = PolynomialFeatures(interaction_only=True, include_bias=False).fit(test_x)\n",
    "test_x_poly = pd.DataFrame(polyer.transform(test_x), columns=polyer.get_feature_names_out().tolist())\n",
    "test_x_poly.shape"
   ]
  },
  {
   "cell_type": "code",
   "execution_count": 65,
   "metadata": {
    "jupyter": {
     "outputs_hidden": false
    },
    "pycharm": {
     "name": "#%%\n"
    }
   },
   "outputs": [],
   "source": [
    "test_prediction = rfc.predict(test_x_poly)"
   ]
  },
  {
   "cell_type": "code",
   "execution_count": 66,
   "metadata": {
    "jupyter": {
     "outputs_hidden": false
    },
    "pycharm": {
     "name": "#%%\n"
    }
   },
   "outputs": [],
   "source": [
    "test_x_temp = pd.read_csv('Final Project/data/mgis489_test.csv')\n",
    "result = {'transactionID': test_x_temp.transactionID.values.tolist(), 'fraud': test_prediction.tolist()}"
   ]
  },
  {
   "cell_type": "code",
   "execution_count": 67,
   "metadata": {
    "jupyter": {
     "outputs_hidden": false
    },
    "pycharm": {
     "name": "#%%\n"
    }
   },
   "outputs": [],
   "source": [
    "pd.DataFrame(result).to_csv('result_rfc_default.csv', index=False)"
   ]
  },
  {
   "cell_type": "markdown",
   "metadata": {},
   "source": [
    "## MLP  0.97823"
   ]
  },
  {
   "cell_type": "code",
   "execution_count": 68,
   "metadata": {},
   "outputs": [],
   "source": [
    "mlp = MLPClassifier(max_iter=500).fit(data_poly.iloc[:, :-1], data_poly.iloc[:, -1])"
   ]
  },
  {
   "cell_type": "code",
   "execution_count": 69,
   "metadata": {
    "jupyter": {
     "outputs_hidden": false
    },
    "pycharm": {
     "name": "#%%\n"
    }
   },
   "outputs": [
    {
     "data": {
      "text/html": [
       "<div>\n",
       "<style scoped>\n",
       "    .dataframe tbody tr th:only-of-type {\n",
       "        vertical-align: middle;\n",
       "    }\n",
       "\n",
       "    .dataframe tbody tr th {\n",
       "        vertical-align: top;\n",
       "    }\n",
       "\n",
       "    .dataframe thead th {\n",
       "        text-align: right;\n",
       "    }\n",
       "</style>\n",
       "<table border=\"1\" class=\"dataframe\">\n",
       "  <thead>\n",
       "    <tr style=\"text-align: right;\">\n",
       "      <th></th>\n",
       "      <th>trustLevel</th>\n",
       "      <th>totalScanTimeInSeconds</th>\n",
       "      <th>grandTotal</th>\n",
       "      <th>lineItemVoids</th>\n",
       "      <th>scansWithoutRegistration</th>\n",
       "      <th>quantityModifications</th>\n",
       "      <th>scannedLineItemsPerSecond</th>\n",
       "      <th>valuePerSecond</th>\n",
       "      <th>lineItemVoidsPerPosition</th>\n",
       "    </tr>\n",
       "  </thead>\n",
       "  <tbody>\n",
       "    <tr>\n",
       "      <th>0</th>\n",
       "      <td>2</td>\n",
       "      <td>1065.0</td>\n",
       "      <td>86.40</td>\n",
       "      <td>0.0</td>\n",
       "      <td>8.0</td>\n",
       "      <td>1.0</td>\n",
       "      <td>0.025352</td>\n",
       "      <td>0.081127</td>\n",
       "      <td>0.000000</td>\n",
       "    </tr>\n",
       "    <tr>\n",
       "      <th>1</th>\n",
       "      <td>2</td>\n",
       "      <td>1634.0</td>\n",
       "      <td>31.61</td>\n",
       "      <td>2.0</td>\n",
       "      <td>0.0</td>\n",
       "      <td>2.0</td>\n",
       "      <td>0.001836</td>\n",
       "      <td>0.019345</td>\n",
       "      <td>0.666667</td>\n",
       "    </tr>\n",
       "    <tr>\n",
       "      <th>2</th>\n",
       "      <td>6</td>\n",
       "      <td>500.0</td>\n",
       "      <td>57.50</td>\n",
       "      <td>7.0</td>\n",
       "      <td>3.0</td>\n",
       "      <td>5.0</td>\n",
       "      <td>0.060000</td>\n",
       "      <td>0.115000</td>\n",
       "      <td>0.233333</td>\n",
       "    </tr>\n",
       "    <tr>\n",
       "      <th>3</th>\n",
       "      <td>3</td>\n",
       "      <td>711.0</td>\n",
       "      <td>50.46</td>\n",
       "      <td>10.0</td>\n",
       "      <td>3.0</td>\n",
       "      <td>1.0</td>\n",
       "      <td>0.033755</td>\n",
       "      <td>0.070970</td>\n",
       "      <td>0.416667</td>\n",
       "    </tr>\n",
       "    <tr>\n",
       "      <th>4</th>\n",
       "      <td>5</td>\n",
       "      <td>1213.0</td>\n",
       "      <td>30.50</td>\n",
       "      <td>8.0</td>\n",
       "      <td>9.0</td>\n",
       "      <td>1.0</td>\n",
       "      <td>0.012366</td>\n",
       "      <td>0.025144</td>\n",
       "      <td>0.533333</td>\n",
       "    </tr>\n",
       "  </tbody>\n",
       "</table>\n",
       "</div>"
      ],
      "text/plain": [
       "   trustLevel  totalScanTimeInSeconds  grandTotal  lineItemVoids  \\\n",
       "0           2                  1065.0       86.40            0.0   \n",
       "1           2                  1634.0       31.61            2.0   \n",
       "2           6                   500.0       57.50            7.0   \n",
       "3           3                   711.0       50.46           10.0   \n",
       "4           5                  1213.0       30.50            8.0   \n",
       "\n",
       "   scansWithoutRegistration  quantityModifications  scannedLineItemsPerSecond  \\\n",
       "0                       8.0                    1.0                   0.025352   \n",
       "1                       0.0                    2.0                   0.001836   \n",
       "2                       3.0                    5.0                   0.060000   \n",
       "3                       3.0                    1.0                   0.033755   \n",
       "4                       9.0                    1.0                   0.012366   \n",
       "\n",
       "   valuePerSecond  lineItemVoidsPerPosition  \n",
       "0        0.081127                  0.000000  \n",
       "1        0.019345                  0.666667  \n",
       "2        0.115000                  0.233333  \n",
       "3        0.070970                  0.416667  \n",
       "4        0.025144                  0.533333  "
      ]
     },
     "execution_count": 69,
     "metadata": {},
     "output_type": "execute_result"
    }
   ],
   "source": [
    "test_x = pd.read_csv('Final Project/data/mgis489_test.csv').iloc[:, 1:]\n",
    "test_x.head()"
   ]
  },
  {
   "cell_type": "code",
   "execution_count": 70,
   "metadata": {
    "jupyter": {
     "outputs_hidden": false
    },
    "pycharm": {
     "name": "#%%\n"
    }
   },
   "outputs": [
    {
     "data": {
      "text/plain": [
       "trustLevel                   0.000000\n",
       "totalScanTimeInSeconds       0.000000\n",
       "grandTotal                   0.000088\n",
       "lineItemVoids                0.000000\n",
       "scansWithoutRegistration     0.000000\n",
       "quantityModifications        0.000000\n",
       "scannedLineItemsPerSecond    0.003224\n",
       "valuePerSecond               0.009430\n",
       "lineItemVoidsPerPosition     0.000000\n",
       "dtype: float64"
      ]
     },
     "execution_count": 70,
     "metadata": {},
     "output_type": "execute_result"
    }
   ],
   "source": [
    "test_x.isna().mean()"
   ]
  },
  {
   "cell_type": "code",
   "execution_count": 71,
   "metadata": {
    "jupyter": {
     "outputs_hidden": false
    },
    "pycharm": {
     "name": "#%%\n"
    }
   },
   "outputs": [],
   "source": [
    "from sklearn.impute import KNNImputer\n",
    "test_x = KNNImputer().fit_transform(test_x)"
   ]
  },
  {
   "cell_type": "code",
   "execution_count": 72,
   "metadata": {
    "jupyter": {
     "outputs_hidden": false
    },
    "pycharm": {
     "name": "#%%\n"
    }
   },
   "outputs": [
    {
     "data": {
      "text/plain": [
       "(135836, 45)"
      ]
     },
     "execution_count": 72,
     "metadata": {},
     "output_type": "execute_result"
    }
   ],
   "source": [
    "from sklearn.preprocessing import PolynomialFeatures\n",
    "polyer = PolynomialFeatures(interaction_only=True, include_bias=False).fit(test_x)\n",
    "test_x_poly = pd.DataFrame(polyer.transform(test_x), columns=polyer.get_feature_names_out().tolist())\n",
    "test_x_poly.shape"
   ]
  },
  {
   "cell_type": "code",
   "execution_count": 73,
   "metadata": {
    "jupyter": {
     "outputs_hidden": false
    },
    "pycharm": {
     "name": "#%%\n"
    }
   },
   "outputs": [],
   "source": [
    "test_prediction = mlp.predict(test_x_poly)"
   ]
  },
  {
   "cell_type": "code",
   "execution_count": 74,
   "metadata": {
    "jupyter": {
     "outputs_hidden": false
    },
    "pycharm": {
     "name": "#%%\n"
    }
   },
   "outputs": [],
   "source": [
    "test_x_temp = pd.read_csv('Final Project/data/mgis489_test.csv')\n",
    "result = {'transactionID': test_x_temp.transactionID.values.tolist(), 'fraud': test_prediction.tolist()}"
   ]
  },
  {
   "cell_type": "code",
   "execution_count": 75,
   "metadata": {
    "jupyter": {
     "outputs_hidden": false
    },
    "pycharm": {
     "name": "#%%\n"
    }
   },
   "outputs": [],
   "source": [
    "pd.DataFrame(result).to_csv('result_mlp_default.csv', index=False)"
   ]
  },
  {
   "cell_type": "markdown",
   "metadata": {},
   "source": [
    "## XGB默认参数  0.99830"
   ]
  },
  {
   "cell_type": "code",
   "execution_count": 32,
   "metadata": {
    "jupyter": {
     "outputs_hidden": false
    },
    "pycharm": {
     "name": "#%%\n"
    }
   },
   "outputs": [],
   "source": [
    "from xgboost import XGBClassifier\n",
    "xgbc = XGBClassifier().fit(data_poly.iloc[:, :-1], data_poly.iloc[:, -1])"
   ]
  },
  {
   "cell_type": "code",
   "execution_count": 33,
   "metadata": {
    "jupyter": {
     "outputs_hidden": false
    },
    "pycharm": {
     "name": "#%%\n"
    }
   },
   "outputs": [
    {
     "data": {
      "text/html": [
       "<div>\n",
       "<style scoped>\n",
       "    .dataframe tbody tr th:only-of-type {\n",
       "        vertical-align: middle;\n",
       "    }\n",
       "\n",
       "    .dataframe tbody tr th {\n",
       "        vertical-align: top;\n",
       "    }\n",
       "\n",
       "    .dataframe thead th {\n",
       "        text-align: right;\n",
       "    }\n",
       "</style>\n",
       "<table border=\"1\" class=\"dataframe\">\n",
       "  <thead>\n",
       "    <tr style=\"text-align: right;\">\n",
       "      <th></th>\n",
       "      <th>trustLevel</th>\n",
       "      <th>totalScanTimeInSeconds</th>\n",
       "      <th>grandTotal</th>\n",
       "      <th>lineItemVoids</th>\n",
       "      <th>scansWithoutRegistration</th>\n",
       "      <th>quantityModifications</th>\n",
       "      <th>scannedLineItemsPerSecond</th>\n",
       "      <th>valuePerSecond</th>\n",
       "      <th>lineItemVoidsPerPosition</th>\n",
       "    </tr>\n",
       "  </thead>\n",
       "  <tbody>\n",
       "    <tr>\n",
       "      <th>0</th>\n",
       "      <td>2</td>\n",
       "      <td>1065.0</td>\n",
       "      <td>86.40</td>\n",
       "      <td>0.0</td>\n",
       "      <td>8.0</td>\n",
       "      <td>1.0</td>\n",
       "      <td>0.025352</td>\n",
       "      <td>0.081127</td>\n",
       "      <td>0.000000</td>\n",
       "    </tr>\n",
       "    <tr>\n",
       "      <th>1</th>\n",
       "      <td>2</td>\n",
       "      <td>1634.0</td>\n",
       "      <td>31.61</td>\n",
       "      <td>2.0</td>\n",
       "      <td>0.0</td>\n",
       "      <td>2.0</td>\n",
       "      <td>0.001836</td>\n",
       "      <td>0.019345</td>\n",
       "      <td>0.666667</td>\n",
       "    </tr>\n",
       "    <tr>\n",
       "      <th>2</th>\n",
       "      <td>6</td>\n",
       "      <td>500.0</td>\n",
       "      <td>57.50</td>\n",
       "      <td>7.0</td>\n",
       "      <td>3.0</td>\n",
       "      <td>5.0</td>\n",
       "      <td>0.060000</td>\n",
       "      <td>0.115000</td>\n",
       "      <td>0.233333</td>\n",
       "    </tr>\n",
       "    <tr>\n",
       "      <th>3</th>\n",
       "      <td>3</td>\n",
       "      <td>711.0</td>\n",
       "      <td>50.46</td>\n",
       "      <td>10.0</td>\n",
       "      <td>3.0</td>\n",
       "      <td>1.0</td>\n",
       "      <td>0.033755</td>\n",
       "      <td>0.070970</td>\n",
       "      <td>0.416667</td>\n",
       "    </tr>\n",
       "    <tr>\n",
       "      <th>4</th>\n",
       "      <td>5</td>\n",
       "      <td>1213.0</td>\n",
       "      <td>30.50</td>\n",
       "      <td>8.0</td>\n",
       "      <td>9.0</td>\n",
       "      <td>1.0</td>\n",
       "      <td>0.012366</td>\n",
       "      <td>0.025144</td>\n",
       "      <td>0.533333</td>\n",
       "    </tr>\n",
       "  </tbody>\n",
       "</table>\n",
       "</div>"
      ],
      "text/plain": [
       "   trustLevel  totalScanTimeInSeconds  grandTotal  lineItemVoids  \\\n",
       "0           2                  1065.0       86.40            0.0   \n",
       "1           2                  1634.0       31.61            2.0   \n",
       "2           6                   500.0       57.50            7.0   \n",
       "3           3                   711.0       50.46           10.0   \n",
       "4           5                  1213.0       30.50            8.0   \n",
       "\n",
       "   scansWithoutRegistration  quantityModifications  scannedLineItemsPerSecond  \\\n",
       "0                       8.0                    1.0                   0.025352   \n",
       "1                       0.0                    2.0                   0.001836   \n",
       "2                       3.0                    5.0                   0.060000   \n",
       "3                       3.0                    1.0                   0.033755   \n",
       "4                       9.0                    1.0                   0.012366   \n",
       "\n",
       "   valuePerSecond  lineItemVoidsPerPosition  \n",
       "0        0.081127                  0.000000  \n",
       "1        0.019345                  0.666667  \n",
       "2        0.115000                  0.233333  \n",
       "3        0.070970                  0.416667  \n",
       "4        0.025144                  0.533333  "
      ]
     },
     "execution_count": 33,
     "metadata": {},
     "output_type": "execute_result"
    }
   ],
   "source": [
    "test_x = pd.read_csv('Final Project/data/mgis489_test.csv').iloc[:, 1:]\n",
    "test_x.head()"
   ]
  },
  {
   "cell_type": "code",
   "execution_count": 34,
   "metadata": {
    "jupyter": {
     "outputs_hidden": false
    },
    "pycharm": {
     "name": "#%%\n"
    }
   },
   "outputs": [
    {
     "data": {
      "text/plain": [
       "trustLevel                   0.000000\n",
       "totalScanTimeInSeconds       0.000000\n",
       "grandTotal                   0.000088\n",
       "lineItemVoids                0.000000\n",
       "scansWithoutRegistration     0.000000\n",
       "quantityModifications        0.000000\n",
       "scannedLineItemsPerSecond    0.003224\n",
       "valuePerSecond               0.009430\n",
       "lineItemVoidsPerPosition     0.000000\n",
       "dtype: float64"
      ]
     },
     "execution_count": 34,
     "metadata": {},
     "output_type": "execute_result"
    }
   ],
   "source": [
    "test_x.isna().mean()"
   ]
  },
  {
   "cell_type": "code",
   "execution_count": 35,
   "metadata": {
    "jupyter": {
     "outputs_hidden": false
    },
    "pycharm": {
     "name": "#%%\n"
    }
   },
   "outputs": [],
   "source": [
    "from sklearn.impute import KNNImputer\n",
    "test_x = KNNImputer().fit_transform(test_x)"
   ]
  },
  {
   "cell_type": "code",
   "execution_count": 36,
   "metadata": {
    "jupyter": {
     "outputs_hidden": false
    },
    "pycharm": {
     "name": "#%%\n"
    }
   },
   "outputs": [
    {
     "data": {
      "text/plain": [
       "(135836, 45)"
      ]
     },
     "execution_count": 36,
     "metadata": {},
     "output_type": "execute_result"
    }
   ],
   "source": [
    "from sklearn.preprocessing import PolynomialFeatures\n",
    "polyer = PolynomialFeatures(interaction_only=True, include_bias=False).fit(test_x)\n",
    "test_x_poly = pd.DataFrame(polyer.transform(test_x), columns=polyer.get_feature_names_out().tolist())\n",
    "test_x_poly.shape"
   ]
  },
  {
   "cell_type": "code",
   "execution_count": 37,
   "metadata": {
    "jupyter": {
     "outputs_hidden": false
    },
    "pycharm": {
     "name": "#%%\n"
    }
   },
   "outputs": [],
   "source": [
    "test_prediction = xgbc.predict(test_x_poly)"
   ]
  },
  {
   "cell_type": "code",
   "execution_count": 38,
   "metadata": {
    "jupyter": {
     "outputs_hidden": false
    },
    "pycharm": {
     "name": "#%%\n"
    }
   },
   "outputs": [],
   "source": [
    "test_x_temp = pd.read_csv('Final Project/data/mgis489_test.csv')\n",
    "result = {'transactionID': test_x_temp.transactionID.values.tolist(), 'fraud': test_prediction.tolist()}"
   ]
  },
  {
   "cell_type": "code",
   "execution_count": 39,
   "metadata": {
    "jupyter": {
     "outputs_hidden": false
    },
    "pycharm": {
     "name": "#%%\n"
    }
   },
   "outputs": [],
   "source": [
    "pd.DataFrame(result).to_csv('result_xgb_default.csv', index=False)"
   ]
  },
  {
   "cell_type": "markdown",
   "metadata": {},
   "source": [
    "## feature weight"
   ]
  },
  {
   "cell_type": "code",
   "execution_count": 118,
   "metadata": {},
   "outputs": [],
   "source": [
    "importances = sorted([*zip(data_poly.columns[:-1], xgbc.feature_importances_)], key=lambda x: x[1], reverse=True)\n",
    "important_features_name = [*map(lambda x: x[0], importances)]\n",
    "important_importance = [*map(lambda x: x[1], importances)]"
   ]
  },
  {
   "cell_type": "code",
   "execution_count": 127,
   "metadata": {},
   "outputs": [
    {
     "data": {
      "image/png": "[encoded data removed]",
      "text/plain": [
       "<Figure size 720x504 with 1 Axes>"
      ]
     },
     "metadata": {
      "needs_background": "light"
     },
     "output_type": "display_data"
    }
   ],
   "source": [
    "plt.rcParams['font.size'] = 20\n",
    "plt.rcParams['font.family'] = 'Times New Roman'\n",
    "plt.figure(figsize=(10, 7))\n",
    "plt.barh(important_features_name[:10], important_importance[:10])\n",
    "plt.yticks(important_features_name[:10], fontsize=20)\n",
    "plt.xticks(np.arange(0, 0.5, 0.05), fontsize=20);"
   ]
  },
  {
   "cell_type": "markdown",
   "metadata": {
    "jupyter": {
     "outputs_hidden": false
    },
    "pycharm": {
     "name": "#%%\n"
    }
   },
   "source": [
    "## XGB with optimal parameter 0.99801"
   ]
  },
  {
   "cell_type": "code",
   "execution_count": 98,
   "metadata": {
    "jupyter": {
     "outputs_hidden": false
    },
    "pycharm": {
     "name": "#%%\n"
    }
   },
   "outputs": [],
   "source": [
    "from xgboost import XGBClassifier\n",
    "xgbc = XGBClassifier(**best_param).fit(poly2.iloc[:, :-1], poly2.iloc[:, -1])"
   ]
  },
  {
   "cell_type": "code",
   "execution_count": 99,
   "metadata": {
    "jupyter": {
     "outputs_hidden": false
    },
    "pycharm": {
     "name": "#%%\n"
    }
   },
   "outputs": [
    {
     "data": {
      "text/html": [
       "<div>\n",
       "<style scoped>\n",
       "    .dataframe tbody tr th:only-of-type {\n",
       "        vertical-align: middle;\n",
       "    }\n",
       "\n",
       "    .dataframe tbody tr th {\n",
       "        vertical-align: top;\n",
       "    }\n",
       "\n",
       "    .dataframe thead th {\n",
       "        text-align: right;\n",
       "    }\n",
       "</style>\n",
       "<table border=\"1\" class=\"dataframe\">\n",
       "  <thead>\n",
       "    <tr style=\"text-align: right;\">\n",
       "      <th></th>\n",
       "      <th>trustLevel</th>\n",
       "      <th>totalScanTimeInSeconds</th>\n",
       "      <th>grandTotal</th>\n",
       "      <th>lineItemVoids</th>\n",
       "      <th>scansWithoutRegistration</th>\n",
       "      <th>quantityModifications</th>\n",
       "      <th>scannedLineItemsPerSecond</th>\n",
       "      <th>valuePerSecond</th>\n",
       "      <th>lineItemVoidsPerPosition</th>\n",
       "    </tr>\n",
       "  </thead>\n",
       "  <tbody>\n",
       "    <tr>\n",
       "      <th>0</th>\n",
       "      <td>2</td>\n",
       "      <td>1065.0</td>\n",
       "      <td>86.40</td>\n",
       "      <td>0.0</td>\n",
       "      <td>8.0</td>\n",
       "      <td>1.0</td>\n",
       "      <td>0.025352</td>\n",
       "      <td>0.081127</td>\n",
       "      <td>0.000000</td>\n",
       "    </tr>\n",
       "    <tr>\n",
       "      <th>1</th>\n",
       "      <td>2</td>\n",
       "      <td>1634.0</td>\n",
       "      <td>31.61</td>\n",
       "      <td>2.0</td>\n",
       "      <td>0.0</td>\n",
       "      <td>2.0</td>\n",
       "      <td>0.001836</td>\n",
       "      <td>0.019345</td>\n",
       "      <td>0.666667</td>\n",
       "    </tr>\n",
       "    <tr>\n",
       "      <th>2</th>\n",
       "      <td>6</td>\n",
       "      <td>500.0</td>\n",
       "      <td>57.50</td>\n",
       "      <td>7.0</td>\n",
       "      <td>3.0</td>\n",
       "      <td>5.0</td>\n",
       "      <td>0.060000</td>\n",
       "      <td>0.115000</td>\n",
       "      <td>0.233333</td>\n",
       "    </tr>\n",
       "    <tr>\n",
       "      <th>3</th>\n",
       "      <td>3</td>\n",
       "      <td>711.0</td>\n",
       "      <td>50.46</td>\n",
       "      <td>10.0</td>\n",
       "      <td>3.0</td>\n",
       "      <td>1.0</td>\n",
       "      <td>0.033755</td>\n",
       "      <td>0.070970</td>\n",
       "      <td>0.416667</td>\n",
       "    </tr>\n",
       "    <tr>\n",
       "      <th>4</th>\n",
       "      <td>5</td>\n",
       "      <td>1213.0</td>\n",
       "      <td>30.50</td>\n",
       "      <td>8.0</td>\n",
       "      <td>9.0</td>\n",
       "      <td>1.0</td>\n",
       "      <td>0.012366</td>\n",
       "      <td>0.025144</td>\n",
       "      <td>0.533333</td>\n",
       "    </tr>\n",
       "  </tbody>\n",
       "</table>\n",
       "</div>"
      ],
      "text/plain": [
       "   trustLevel  totalScanTimeInSeconds  grandTotal  lineItemVoids  \\\n",
       "0           2                  1065.0       86.40            0.0   \n",
       "1           2                  1634.0       31.61            2.0   \n",
       "2           6                   500.0       57.50            7.0   \n",
       "3           3                   711.0       50.46           10.0   \n",
       "4           5                  1213.0       30.50            8.0   \n",
       "\n",
       "   scansWithoutRegistration  quantityModifications  scannedLineItemsPerSecond  \\\n",
       "0                       8.0                    1.0                   0.025352   \n",
       "1                       0.0                    2.0                   0.001836   \n",
       "2                       3.0                    5.0                   0.060000   \n",
       "3                       3.0                    1.0                   0.033755   \n",
       "4                       9.0                    1.0                   0.012366   \n",
       "\n",
       "   valuePerSecond  lineItemVoidsPerPosition  \n",
       "0        0.081127                  0.000000  \n",
       "1        0.019345                  0.666667  \n",
       "2        0.115000                  0.233333  \n",
       "3        0.070970                  0.416667  \n",
       "4        0.025144                  0.533333  "
      ]
     },
     "execution_count": 99,
     "metadata": {},
     "output_type": "execute_result"
    }
   ],
   "source": [
    "test_x = pd.read_csv('Final Project/data/mgis489_test.csv').iloc[:, 1:]\n",
    "test_x.head()"
   ]
  },
  {
   "cell_type": "code",
   "execution_count": 100,
   "metadata": {
    "jupyter": {
     "outputs_hidden": false
    },
    "pycharm": {
     "name": "#%%\n"
    }
   },
   "outputs": [
    {
     "data": {
      "text/plain": [
       "trustLevel                   0.000000\n",
       "totalScanTimeInSeconds       0.000000\n",
       "grandTotal                   0.000088\n",
       "lineItemVoids                0.000000\n",
       "scansWithoutRegistration     0.000000\n",
       "quantityModifications        0.000000\n",
       "scannedLineItemsPerSecond    0.003224\n",
       "valuePerSecond               0.009430\n",
       "lineItemVoidsPerPosition     0.000000\n",
       "dtype: float64"
      ]
     },
     "execution_count": 100,
     "metadata": {},
     "output_type": "execute_result"
    }
   ],
   "source": [
    "test_x.isna().mean()"
   ]
  },
  {
   "cell_type": "code",
   "execution_count": 101,
   "metadata": {
    "jupyter": {
     "outputs_hidden": false
    },
    "pycharm": {
     "name": "#%%\n"
    }
   },
   "outputs": [],
   "source": [
    "from sklearn.impute import KNNImputer\n",
    "test_x = KNNImputer().fit_transform(test_x)"
   ]
  },
  {
   "cell_type": "code",
   "execution_count": 102,
   "metadata": {
    "jupyter": {
     "outputs_hidden": false
    },
    "pycharm": {
     "name": "#%%\n"
    }
   },
   "outputs": [
    {
     "data": {
      "text/plain": [
       "(135836, 45)"
      ]
     },
     "execution_count": 102,
     "metadata": {},
     "output_type": "execute_result"
    }
   ],
   "source": [
    "from sklearn.preprocessing import PolynomialFeatures\n",
    "polyer = PolynomialFeatures(interaction_only=True, include_bias=False).fit(test_x)\n",
    "test_x_poly = pd.DataFrame(polyer.transform(test_x), columns=polyer.get_feature_names_out().tolist())\n",
    "test_x_poly.shape"
   ]
  },
  {
   "cell_type": "code",
   "execution_count": 103,
   "metadata": {
    "jupyter": {
     "outputs_hidden": false
    },
    "pycharm": {
     "name": "#%%\n"
    }
   },
   "outputs": [],
   "source": [
    "test_prediction = xgbc.predict(test_x_poly)"
   ]
  },
  {
   "cell_type": "code",
   "execution_count": 104,
   "metadata": {
    "jupyter": {
     "outputs_hidden": false
    },
    "pycharm": {
     "name": "#%%\n"
    }
   },
   "outputs": [],
   "source": [
    "test_x_temp = pd.read_csv('Final Project/data/mgis489_test.csv')\n",
    "result = {'transactionID': test_x_temp.transactionID.values.tolist(), 'fraud': test_prediction.tolist()}"
   ]
  },
  {
   "cell_type": "code",
   "execution_count": 105,
   "metadata": {
    "jupyter": {
     "outputs_hidden": false
    },
    "pycharm": {
     "name": "#%%\n"
    }
   },
   "outputs": [],
   "source": [
    "pd.DataFrame(result).to_csv('result_xgb_best_param.csv', index=False)"
   ]
  },
  {
   "cell_type": "markdown",
   "metadata": {},
   "source": [
    "## stacking  0.99665"
   ]
  },
  {
   "cell_type": "code",
   "execution_count": 48,
   "metadata": {},
   "outputs": [],
   "source": [
    "from xgboost import XGBClassifier\n",
    "from sklearn.ensemble import RandomForestClassifier\n",
    "from sklearn.neural_network import MLPClassifier\n",
    "from sklearn.linear_model import LogisticRegression\n",
    "from sklearn.metrics import accuracy_score, confusion_matrix\n",
    "from sklearn.model_selection import KFold, cross_val_predict, cross_validate\n",
    "\n",
    "rfc = RandomForestClassifier(n_jobs=-1).fit(data_poly.iloc[:, :-1], data_poly.iloc[:, -1])\n",
    "mlp = MLPClassifier().fit(data_poly.iloc[:, :-1], data_poly.iloc[:, -1])\n",
    "xgbc = XGBClassifier(n_jobs=-1).fit(data_poly.iloc[:, :-1], data_poly.iloc[:, -1])\n",
    "\n",
    "rfc_prediction = rfc.predict(data_poly.iloc[:, :-1])\n",
    "mlp_prediction = mlp.predict(data_poly.iloc[:, :-1])\n",
    "xgbc_prediction = xgbc.predict(data_poly.iloc[:, :-1])\n",
    "\n",
    "lg_stacking = LogisticRegression().fit(np.hstack([rfc_prediction.reshape(-1, 1), mlp_prediction.reshape(-1, 1), xgb_prediction.reshape(-1, 1)]), data_poly.iloc[:, -1])\n",
    "lg_stacking_prediction = lg_stacking.predict(np.hstack([rfc_prediction.reshape(-1, 1), mlp_prediction.reshape(-1, 1), xgb_prediction.reshape(-1, 1)]))"
   ]
  },
  {
   "cell_type": "code",
   "execution_count": 49,
   "metadata": {
    "jupyter": {
     "outputs_hidden": false
    },
    "pycharm": {
     "name": "#%%\n"
    }
   },
   "outputs": [
    {
     "data": {
      "text/html": [
       "<div>\n",
       "<style scoped>\n",
       "    .dataframe tbody tr th:only-of-type {\n",
       "        vertical-align: middle;\n",
       "    }\n",
       "\n",
       "    .dataframe tbody tr th {\n",
       "        vertical-align: top;\n",
       "    }\n",
       "\n",
       "    .dataframe thead th {\n",
       "        text-align: right;\n",
       "    }\n",
       "</style>\n",
       "<table border=\"1\" class=\"dataframe\">\n",
       "  <thead>\n",
       "    <tr style=\"text-align: right;\">\n",
       "      <th></th>\n",
       "      <th>trustLevel</th>\n",
       "      <th>totalScanTimeInSeconds</th>\n",
       "      <th>grandTotal</th>\n",
       "      <th>lineItemVoids</th>\n",
       "      <th>scansWithoutRegistration</th>\n",
       "      <th>quantityModifications</th>\n",
       "      <th>scannedLineItemsPerSecond</th>\n",
       "      <th>valuePerSecond</th>\n",
       "      <th>lineItemVoidsPerPosition</th>\n",
       "    </tr>\n",
       "  </thead>\n",
       "  <tbody>\n",
       "    <tr>\n",
       "      <th>0</th>\n",
       "      <td>2</td>\n",
       "      <td>1065.0</td>\n",
       "      <td>86.40</td>\n",
       "      <td>0.0</td>\n",
       "      <td>8.0</td>\n",
       "      <td>1.0</td>\n",
       "      <td>0.025352</td>\n",
       "      <td>0.081127</td>\n",
       "      <td>0.000000</td>\n",
       "    </tr>\n",
       "    <tr>\n",
       "      <th>1</th>\n",
       "      <td>2</td>\n",
       "      <td>1634.0</td>\n",
       "      <td>31.61</td>\n",
       "      <td>2.0</td>\n",
       "      <td>0.0</td>\n",
       "      <td>2.0</td>\n",
       "      <td>0.001836</td>\n",
       "      <td>0.019345</td>\n",
       "      <td>0.666667</td>\n",
       "    </tr>\n",
       "    <tr>\n",
       "      <th>2</th>\n",
       "      <td>6</td>\n",
       "      <td>500.0</td>\n",
       "      <td>57.50</td>\n",
       "      <td>7.0</td>\n",
       "      <td>3.0</td>\n",
       "      <td>5.0</td>\n",
       "      <td>0.060000</td>\n",
       "      <td>0.115000</td>\n",
       "      <td>0.233333</td>\n",
       "    </tr>\n",
       "    <tr>\n",
       "      <th>3</th>\n",
       "      <td>3</td>\n",
       "      <td>711.0</td>\n",
       "      <td>50.46</td>\n",
       "      <td>10.0</td>\n",
       "      <td>3.0</td>\n",
       "      <td>1.0</td>\n",
       "      <td>0.033755</td>\n",
       "      <td>0.070970</td>\n",
       "      <td>0.416667</td>\n",
       "    </tr>\n",
       "    <tr>\n",
       "      <th>4</th>\n",
       "      <td>5</td>\n",
       "      <td>1213.0</td>\n",
       "      <td>30.50</td>\n",
       "      <td>8.0</td>\n",
       "      <td>9.0</td>\n",
       "      <td>1.0</td>\n",
       "      <td>0.012366</td>\n",
       "      <td>0.025144</td>\n",
       "      <td>0.533333</td>\n",
       "    </tr>\n",
       "  </tbody>\n",
       "</table>\n",
       "</div>"
      ],
      "text/plain": [
       "   trustLevel  totalScanTimeInSeconds  grandTotal  lineItemVoids  \\\n",
       "0           2                  1065.0       86.40            0.0   \n",
       "1           2                  1634.0       31.61            2.0   \n",
       "2           6                   500.0       57.50            7.0   \n",
       "3           3                   711.0       50.46           10.0   \n",
       "4           5                  1213.0       30.50            8.0   \n",
       "\n",
       "   scansWithoutRegistration  quantityModifications  scannedLineItemsPerSecond  \\\n",
       "0                       8.0                    1.0                   0.025352   \n",
       "1                       0.0                    2.0                   0.001836   \n",
       "2                       3.0                    5.0                   0.060000   \n",
       "3                       3.0                    1.0                   0.033755   \n",
       "4                       9.0                    1.0                   0.012366   \n",
       "\n",
       "   valuePerSecond  lineItemVoidsPerPosition  \n",
       "0        0.081127                  0.000000  \n",
       "1        0.019345                  0.666667  \n",
       "2        0.115000                  0.233333  \n",
       "3        0.070970                  0.416667  \n",
       "4        0.025144                  0.533333  "
      ]
     },
     "execution_count": 49,
     "metadata": {},
     "output_type": "execute_result"
    }
   ],
   "source": [
    "test_x = pd.read_csv('Final Project/data/mgis489_test.csv').iloc[:, 1:]\n",
    "test_x.head()"
   ]
  },
  {
   "cell_type": "code",
   "execution_count": 50,
   "metadata": {
    "jupyter": {
     "outputs_hidden": false
    },
    "pycharm": {
     "name": "#%%\n"
    }
   },
   "outputs": [
    {
     "data": {
      "text/plain": [
       "trustLevel                   0.000000\n",
       "totalScanTimeInSeconds       0.000000\n",
       "grandTotal                   0.000088\n",
       "lineItemVoids                0.000000\n",
       "scansWithoutRegistration     0.000000\n",
       "quantityModifications        0.000000\n",
       "scannedLineItemsPerSecond    0.003224\n",
       "valuePerSecond               0.009430\n",
       "lineItemVoidsPerPosition     0.000000\n",
       "dtype: float64"
      ]
     },
     "execution_count": 50,
     "metadata": {},
     "output_type": "execute_result"
    }
   ],
   "source": [
    "test_x.isna().mean()"
   ]
  },
  {
   "cell_type": "code",
   "execution_count": 51,
   "metadata": {
    "jupyter": {
     "outputs_hidden": false
    },
    "pycharm": {
     "name": "#%%\n"
    }
   },
   "outputs": [],
   "source": [
    "from sklearn.impute import KNNImputer\n",
    "test_x = KNNImputer().fit_transform(test_x)"
   ]
  },
  {
   "cell_type": "code",
   "execution_count": 52,
   "metadata": {
    "jupyter": {
     "outputs_hidden": false
    },
    "pycharm": {
     "name": "#%%\n"
    }
   },
   "outputs": [
    {
     "data": {
      "text/plain": [
       "(135836, 45)"
      ]
     },
     "execution_count": 52,
     "metadata": {},
     "output_type": "execute_result"
    }
   ],
   "source": [
    "from sklearn.preprocessing import PolynomialFeatures\n",
    "polyer = PolynomialFeatures(interaction_only=True, include_bias=False).fit(test_x)\n",
    "test_x_poly = pd.DataFrame(polyer.transform(test_x), columns=polyer.get_feature_names_out().tolist())\n",
    "test_x_poly.shape"
   ]
  },
  {
   "cell_type": "code",
   "execution_count": 53,
   "metadata": {},
   "outputs": [],
   "source": [
    "rfc_prediction = rfc.predict(test_x_poly)\n",
    "mlp_prediction = mlp.predict(test_x_poly)\n",
    "xgbc_prediction = xgbc.predict(test_x_poly)"
   ]
  },
  {
   "cell_type": "code",
   "execution_count": 57,
   "metadata": {},
   "outputs": [],
   "source": [
    "test_prediction = lg_stacking.predict(np.hstack([rfc_prediction.reshape(-1, 1), mlp_prediction.reshape(-1, 1), xgbc_prediction.reshape(-1, 1)]))"
   ]
  },
  {
   "cell_type": "code",
   "execution_count": 58,
   "metadata": {},
   "outputs": [],
   "source": [
    "test_x_temp = pd.read_csv('Final Project/data/mgis489_test.csv')\n",
    "result = {'transactionID': test_x_temp.transactionID.values.tolist(), 'fraud': test_prediction.tolist()}"
   ]
  },
  {
   "cell_type": "code",
   "execution_count": 59,
   "metadata": {},
   "outputs": [],
   "source": [
    "pd.DataFrame(result).to_csv('result_lgstacking_default.csv', index=False)"
   ]
  },
  {
   "cell_type": "code",
   "execution_count": null,
   "metadata": {},
   "outputs": [],
   "source": []
  }
 ],
 "metadata": {
  "kernelspec": {
   "display_name": "Python 3 (ipykernel)",
   "language": "python",
   "name": "python3"
  },
  "language_info": {
   "codemirror_mode": {
    "name": "ipython",
    "version": 3
   },
   "file_extension": ".py",
   "mimetype": "text/x-python",
   "name": "python",
   "nbconvert_exporter": "python",
   "pygments_lexer": "ipython3",
   "version": "3.10.5"
  }
 },
 "nbformat": 4,
 "nbformat_minor": 4
}
